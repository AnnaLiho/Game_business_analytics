{
 "cells": [
  {
   "cell_type": "markdown",
   "id": "99efe885",
   "metadata": {},
   "source": [
    "\n",
    "# Сервис аренды самокатов GoFast\n",
    "\n",
    "## Проверка гипотез для бизнеса относительно пользователей с подпиской и без."
   ]
  },
  {
   "cell_type": "markdown",
   "id": "58862ef3",
   "metadata": {},
   "source": [
    "\n",
    "    \n",
    "План исследования:\n",
    "1. [Предобработка данных. Изменить типы данных, где это необходимо. Найти пропущенные данные или дубликаты, скорректировать их при необходимости](#section1_id)\n",
    "\n",
    "2. Исследовательский анализ данных:\n",
    "\n",
    "[частота встречаемости по городам](#section2_id), \n",
    "\n",
    "[соотношение пользователей с подпиской и без подписки, ](#section21_id)\n",
    "\n",
    "[возраст пользователей](#section22_id)\n",
    "\n",
    "[расстояние, которое пользователь преодолел за одну поездку](#section23_id)\n",
    "\n",
    "[продолжительность поездок ](#section24_id).\n",
    "    \n",
    "3. [Объединение данных о пользователях, поездках и подписках, отдельно - о пользователях с подписой и без.](#section3_id)\n",
    "    \n",
    "4. [Подсчет выручки для каждого пользователя за месяц.](#section4_id)\n",
    "\n",
    "    \n",
    "5. Проверка гипотез:\n",
    "\n",
    "[тратят ли пользователи с подпиской больше времени на поездки?](#section51_id)\n",
    "\n",
    "[Можно ли сказать, что среднее расстояние, которое проезжают пользователи с подпиской за одну поездку, не превышает 3130 метров? ](#section52_id)\n",
    "\n",
    "[будет ли помесячная выручка от пользователей с подпиской по месяцам выше, чем выручка от пользователей без подписки.](#section53_id)\n",
    "\n",
    "[повлияет ли смена серверов на количество обращений в техподдержку?](#section54_id)\n",
    "\n",
    "    \n",
    "6. [Для акции по промокодам: какое минимальное количество промокодов нужно разослать, чтобы вероятность не выполнить план была примерно 5%. ](#section6_id)\n",
    "\n",
    "    \n",
    "7. [push-уведомления в мобильном приложении: вероятность того, что уведомление откроют не более \n",
    "399,5 тыс. пользователей при отправке 1 млн уведомлений](#section7_id)\n",
    "\n"
   ]
  },
  {
   "cell_type": "code",
   "execution_count": 17,
   "id": "72576667",
   "metadata": {},
   "outputs": [],
   "source": [
    "import pandas as pd\n",
    "import matplotlib.pyplot as plt\n",
    "import seaborn as sns\n",
    "import numpy as np\n",
    "import scipy.stats as st"
   ]
  },
  {
   "cell_type": "markdown",
   "id": "c42cbe00",
   "metadata": {},
   "source": [
    "### Шаг 1. Загрузка данных"
   ]
  },
  {
   "cell_type": "code",
   "execution_count": 18,
   "id": "eff9f206",
   "metadata": {},
   "outputs": [
    {
     "name": "stdout",
     "output_type": "stream",
     "text": [
      "<class 'pandas.core.frame.DataFrame'>\n",
      "RangeIndex: 1565 entries, 0 to 1564\n",
      "Data columns (total 5 columns):\n",
      " #   Column             Non-Null Count  Dtype \n",
      "---  ------             --------------  ----- \n",
      " 0   user_id            1565 non-null   int64 \n",
      " 1   name               1565 non-null   object\n",
      " 2   age                1565 non-null   int64 \n",
      " 3   city               1565 non-null   object\n",
      " 4   subscription_type  1565 non-null   object\n",
      "dtypes: int64(2), object(3)\n",
      "memory usage: 61.3+ KB\n"
     ]
    },
    {
     "data": {
      "text/html": [
       "<div>\n",
       "<style scoped>\n",
       "    .dataframe tbody tr th:only-of-type {\n",
       "        vertical-align: middle;\n",
       "    }\n",
       "\n",
       "    .dataframe tbody tr th {\n",
       "        vertical-align: top;\n",
       "    }\n",
       "\n",
       "    .dataframe thead th {\n",
       "        text-align: right;\n",
       "    }\n",
       "</style>\n",
       "<table border=\"1\" class=\"dataframe\">\n",
       "  <thead>\n",
       "    <tr style=\"text-align: right;\">\n",
       "      <th></th>\n",
       "      <th>user_id</th>\n",
       "      <th>name</th>\n",
       "      <th>age</th>\n",
       "      <th>city</th>\n",
       "      <th>subscription_type</th>\n",
       "    </tr>\n",
       "  </thead>\n",
       "  <tbody>\n",
       "    <tr>\n",
       "      <th>0</th>\n",
       "      <td>1</td>\n",
       "      <td>Кира</td>\n",
       "      <td>22</td>\n",
       "      <td>Тюмень</td>\n",
       "      <td>ultra</td>\n",
       "    </tr>\n",
       "    <tr>\n",
       "      <th>1</th>\n",
       "      <td>2</td>\n",
       "      <td>Станислав</td>\n",
       "      <td>31</td>\n",
       "      <td>Омск</td>\n",
       "      <td>ultra</td>\n",
       "    </tr>\n",
       "    <tr>\n",
       "      <th>2</th>\n",
       "      <td>3</td>\n",
       "      <td>Алексей</td>\n",
       "      <td>20</td>\n",
       "      <td>Москва</td>\n",
       "      <td>ultra</td>\n",
       "    </tr>\n",
       "    <tr>\n",
       "      <th>3</th>\n",
       "      <td>4</td>\n",
       "      <td>Константин</td>\n",
       "      <td>26</td>\n",
       "      <td>Ростов-на-Дону</td>\n",
       "      <td>ultra</td>\n",
       "    </tr>\n",
       "    <tr>\n",
       "      <th>4</th>\n",
       "      <td>5</td>\n",
       "      <td>Адель</td>\n",
       "      <td>28</td>\n",
       "      <td>Омск</td>\n",
       "      <td>ultra</td>\n",
       "    </tr>\n",
       "  </tbody>\n",
       "</table>\n",
       "</div>"
      ],
      "text/plain": [
       "   user_id        name  age            city subscription_type\n",
       "0        1        Кира   22          Тюмень             ultra\n",
       "1        2   Станислав   31            Омск             ultra\n",
       "2        3     Алексей   20          Москва             ultra\n",
       "3        4  Константин   26  Ростов-на-Дону             ultra\n",
       "4        5       Адель   28            Омск             ultra"
      ]
     },
     "execution_count": 18,
     "metadata": {},
     "output_type": "execute_result"
    }
   ],
   "source": [
    "data_users_go = pd.read_csv(r'/Users/A/Desktop/Я_ПРАКТИКУМ/GIT HUB/users_go.csv')\n",
    "data_users_go.head()\n",
    "data_users_go.info()\n",
    "data_users_go.head()"
   ]
  },
  {
   "cell_type": "code",
   "execution_count": 19,
   "id": "97ddf734",
   "metadata": {},
   "outputs": [
    {
     "name": "stdout",
     "output_type": "stream",
     "text": [
      "<class 'pandas.core.frame.DataFrame'>\n",
      "RangeIndex: 18068 entries, 0 to 18067\n",
      "Data columns (total 4 columns):\n",
      " #   Column    Non-Null Count  Dtype  \n",
      "---  ------    --------------  -----  \n",
      " 0   user_id   18068 non-null  int64  \n",
      " 1   distance  18068 non-null  float64\n",
      " 2   duration  18068 non-null  float64\n",
      " 3   date      18068 non-null  object \n",
      "dtypes: float64(2), int64(1), object(1)\n",
      "memory usage: 564.8+ KB\n"
     ]
    },
    {
     "data": {
      "text/html": [
       "<div>\n",
       "<style scoped>\n",
       "    .dataframe tbody tr th:only-of-type {\n",
       "        vertical-align: middle;\n",
       "    }\n",
       "\n",
       "    .dataframe tbody tr th {\n",
       "        vertical-align: top;\n",
       "    }\n",
       "\n",
       "    .dataframe thead th {\n",
       "        text-align: right;\n",
       "    }\n",
       "</style>\n",
       "<table border=\"1\" class=\"dataframe\">\n",
       "  <thead>\n",
       "    <tr style=\"text-align: right;\">\n",
       "      <th></th>\n",
       "      <th>user_id</th>\n",
       "      <th>distance</th>\n",
       "      <th>duration</th>\n",
       "      <th>date</th>\n",
       "    </tr>\n",
       "  </thead>\n",
       "  <tbody>\n",
       "    <tr>\n",
       "      <th>0</th>\n",
       "      <td>1</td>\n",
       "      <td>4409.919140</td>\n",
       "      <td>25.599769</td>\n",
       "      <td>2021-01-01</td>\n",
       "    </tr>\n",
       "    <tr>\n",
       "      <th>1</th>\n",
       "      <td>1</td>\n",
       "      <td>2617.592153</td>\n",
       "      <td>15.816871</td>\n",
       "      <td>2021-01-18</td>\n",
       "    </tr>\n",
       "    <tr>\n",
       "      <th>2</th>\n",
       "      <td>1</td>\n",
       "      <td>754.159807</td>\n",
       "      <td>6.232113</td>\n",
       "      <td>2021-04-20</td>\n",
       "    </tr>\n",
       "    <tr>\n",
       "      <th>3</th>\n",
       "      <td>1</td>\n",
       "      <td>2694.783254</td>\n",
       "      <td>18.511000</td>\n",
       "      <td>2021-08-11</td>\n",
       "    </tr>\n",
       "    <tr>\n",
       "      <th>4</th>\n",
       "      <td>1</td>\n",
       "      <td>4028.687306</td>\n",
       "      <td>26.265803</td>\n",
       "      <td>2021-08-28</td>\n",
       "    </tr>\n",
       "  </tbody>\n",
       "</table>\n",
       "</div>"
      ],
      "text/plain": [
       "   user_id     distance   duration        date\n",
       "0        1  4409.919140  25.599769  2021-01-01\n",
       "1        1  2617.592153  15.816871  2021-01-18\n",
       "2        1   754.159807   6.232113  2021-04-20\n",
       "3        1  2694.783254  18.511000  2021-08-11\n",
       "4        1  4028.687306  26.265803  2021-08-28"
      ]
     },
     "execution_count": 19,
     "metadata": {},
     "output_type": "execute_result"
    }
   ],
   "source": [
    "data_rides_go = pd.read_csv(r'/Users/A/Desktop/Я_ПРАКТИКУМ/GIT HUB/rides_go.csv')\n",
    "data_rides_go.head()\n",
    "data_rides_go.info()\n",
    "data_rides_go.head()"
   ]
  },
  {
   "cell_type": "code",
   "execution_count": 20,
   "id": "86d0af4e",
   "metadata": {},
   "outputs": [
    {
     "name": "stdout",
     "output_type": "stream",
     "text": [
      "<class 'pandas.core.frame.DataFrame'>\n",
      "RangeIndex: 2 entries, 0 to 1\n",
      "Data columns (total 4 columns):\n",
      " #   Column             Non-Null Count  Dtype \n",
      "---  ------             --------------  ----- \n",
      " 0   subscription_type  2 non-null      object\n",
      " 1   minute_price       2 non-null      int64 \n",
      " 2   start_ride_price   2 non-null      int64 \n",
      " 3   subscription_fee   2 non-null      int64 \n",
      "dtypes: int64(3), object(1)\n",
      "memory usage: 196.0+ bytes\n"
     ]
    },
    {
     "data": {
      "text/html": [
       "<div>\n",
       "<style scoped>\n",
       "    .dataframe tbody tr th:only-of-type {\n",
       "        vertical-align: middle;\n",
       "    }\n",
       "\n",
       "    .dataframe tbody tr th {\n",
       "        vertical-align: top;\n",
       "    }\n",
       "\n",
       "    .dataframe thead th {\n",
       "        text-align: right;\n",
       "    }\n",
       "</style>\n",
       "<table border=\"1\" class=\"dataframe\">\n",
       "  <thead>\n",
       "    <tr style=\"text-align: right;\">\n",
       "      <th></th>\n",
       "      <th>subscription_type</th>\n",
       "      <th>minute_price</th>\n",
       "      <th>start_ride_price</th>\n",
       "      <th>subscription_fee</th>\n",
       "    </tr>\n",
       "  </thead>\n",
       "  <tbody>\n",
       "    <tr>\n",
       "      <th>0</th>\n",
       "      <td>free</td>\n",
       "      <td>8</td>\n",
       "      <td>50</td>\n",
       "      <td>0</td>\n",
       "    </tr>\n",
       "    <tr>\n",
       "      <th>1</th>\n",
       "      <td>ultra</td>\n",
       "      <td>6</td>\n",
       "      <td>0</td>\n",
       "      <td>199</td>\n",
       "    </tr>\n",
       "  </tbody>\n",
       "</table>\n",
       "</div>"
      ],
      "text/plain": [
       "  subscription_type  minute_price  start_ride_price  subscription_fee\n",
       "0              free             8                50                 0\n",
       "1             ultra             6                 0               199"
      ]
     },
     "execution_count": 20,
     "metadata": {},
     "output_type": "execute_result"
    }
   ],
   "source": [
    "data_subscriptions_go = pd.read_csv(r'/Users/A/Desktop/Я_ПРАКТИКУМ/GIT HUB/subscriptions_go.csv')\n",
    "data_subscriptions_go.head()\n",
    "data_subscriptions_go.info()\n",
    "data_subscriptions_go"
   ]
  },
  {
   "cell_type": "markdown",
   "id": "d69df015",
   "metadata": {},
   "source": [
    "<div class=\"alert alert-info\" style=\"border-radius: 10px; box-shadow: 2px 2px 2px; border: 1px solid; padding: 10px \"> \n",
    "<b></b> \n",
    "    \n",
    "Для анализа представлены три таблицы: информация о пользователях, о поездках и тарифы для разных типов подписки.\n",
    "\n",
    "Кол-во пользователей 1565\n",
    "\n",
    "Количество поездок 18068\n",
    "\n",
    "Тариф с подпиской и без\n",
    "    \n",
    "Пропуски в данных отсутствуют.\n",
    "    \n",
    "    \n",
    "    \n",
    "    "
   ]
  },
  {
   "cell_type": "markdown",
   "id": "e95ebca7",
   "metadata": {},
   "source": [
    "### Предобработка данных \n",
    "<a id='section1_id'></a>"
   ]
  },
  {
   "cell_type": "code",
   "execution_count": 21,
   "id": "ffabf09a",
   "metadata": {},
   "outputs": [
    {
     "name": "stdout",
     "output_type": "stream",
     "text": [
      "<class 'pandas.core.frame.DataFrame'>\n",
      "RangeIndex: 18068 entries, 0 to 18067\n",
      "Data columns (total 4 columns):\n",
      " #   Column    Non-Null Count  Dtype         \n",
      "---  ------    --------------  -----         \n",
      " 0   user_id   18068 non-null  int64         \n",
      " 1   distance  18068 non-null  float64       \n",
      " 2   duration  18068 non-null  float64       \n",
      " 3   date      18068 non-null  datetime64[ns]\n",
      "dtypes: datetime64[ns](1), float64(2), int64(1)\n",
      "memory usage: 564.8 KB\n"
     ]
    }
   ],
   "source": [
    "\n",
    "#изменить тип данных Даты\n",
    "data_rides_go['date'] = pd.to_datetime(data_rides_go['date'], format = '%Y-%m-%d')\n",
    "data_rides_go.info()"
   ]
  },
  {
   "cell_type": "code",
   "execution_count": 22,
   "id": "e609902e",
   "metadata": {},
   "outputs": [
    {
     "data": {
      "text/html": [
       "<div>\n",
       "<style scoped>\n",
       "    .dataframe tbody tr th:only-of-type {\n",
       "        vertical-align: middle;\n",
       "    }\n",
       "\n",
       "    .dataframe tbody tr th {\n",
       "        vertical-align: top;\n",
       "    }\n",
       "\n",
       "    .dataframe thead th {\n",
       "        text-align: right;\n",
       "    }\n",
       "</style>\n",
       "<table border=\"1\" class=\"dataframe\">\n",
       "  <thead>\n",
       "    <tr style=\"text-align: right;\">\n",
       "      <th></th>\n",
       "      <th>user_id</th>\n",
       "      <th>distance</th>\n",
       "      <th>duration</th>\n",
       "      <th>date</th>\n",
       "      <th>month</th>\n",
       "    </tr>\n",
       "  </thead>\n",
       "  <tbody>\n",
       "    <tr>\n",
       "      <th>0</th>\n",
       "      <td>1</td>\n",
       "      <td>4409.919140</td>\n",
       "      <td>25.599769</td>\n",
       "      <td>2021-01-01</td>\n",
       "      <td>1</td>\n",
       "    </tr>\n",
       "    <tr>\n",
       "      <th>1</th>\n",
       "      <td>1</td>\n",
       "      <td>2617.592153</td>\n",
       "      <td>15.816871</td>\n",
       "      <td>2021-01-18</td>\n",
       "      <td>1</td>\n",
       "    </tr>\n",
       "    <tr>\n",
       "      <th>2</th>\n",
       "      <td>1</td>\n",
       "      <td>754.159807</td>\n",
       "      <td>6.232113</td>\n",
       "      <td>2021-04-20</td>\n",
       "      <td>4</td>\n",
       "    </tr>\n",
       "    <tr>\n",
       "      <th>3</th>\n",
       "      <td>1</td>\n",
       "      <td>2694.783254</td>\n",
       "      <td>18.511000</td>\n",
       "      <td>2021-08-11</td>\n",
       "      <td>8</td>\n",
       "    </tr>\n",
       "    <tr>\n",
       "      <th>4</th>\n",
       "      <td>1</td>\n",
       "      <td>4028.687306</td>\n",
       "      <td>26.265803</td>\n",
       "      <td>2021-08-28</td>\n",
       "      <td>8</td>\n",
       "    </tr>\n",
       "  </tbody>\n",
       "</table>\n",
       "</div>"
      ],
      "text/plain": [
       "   user_id     distance   duration       date  month\n",
       "0        1  4409.919140  25.599769 2021-01-01      1\n",
       "1        1  2617.592153  15.816871 2021-01-18      1\n",
       "2        1   754.159807   6.232113 2021-04-20      4\n",
       "3        1  2694.783254  18.511000 2021-08-11      8\n",
       "4        1  4028.687306  26.265803 2021-08-28      8"
      ]
     },
     "execution_count": 22,
     "metadata": {},
     "output_type": "execute_result"
    }
   ],
   "source": [
    "# столбец месяц\n",
    "data_rides_go['month'] = data_rides_go['date'].dt.month\n",
    "data_rides_go.head()"
   ]
  },
  {
   "cell_type": "code",
   "execution_count": 23,
   "id": "af6d202c",
   "metadata": {},
   "outputs": [
    {
     "data": {
      "text/plain": [
       "user_id              0\n",
       "name                 0\n",
       "age                  0\n",
       "city                 0\n",
       "subscription_type    0\n",
       "dtype: int64"
      ]
     },
     "metadata": {},
     "output_type": "display_data"
    },
    {
     "data": {
      "text/plain": [
       "user_id     0\n",
       "distance    0\n",
       "duration    0\n",
       "date        0\n",
       "month       0\n",
       "dtype: int64"
      ]
     },
     "execution_count": 23,
     "metadata": {},
     "output_type": "execute_result"
    }
   ],
   "source": [
    "#проверка пустых значений\n",
    "display(data_users_go.isna().sum())\n",
    "data_rides_go.isna().sum()\n"
   ]
  },
  {
   "cell_type": "code",
   "execution_count": 24,
   "id": "b577f9cf",
   "metadata": {},
   "outputs": [
    {
     "name": "stdout",
     "output_type": "stream",
     "text": [
      "Количество дубликатов в датафрейм с поездками 0\n",
      "Количество дубликатов в датафрейм пользователи 31\n",
      "name\n",
      "Мария        23\n",
      "Анна         22\n",
      "Александр    18\n",
      "Дмитрий      17\n",
      "Никита       17\n",
      "             ..\n",
      "Матвей        3\n",
      "Семен         2\n",
      "Тихон         1\n",
      "Радмир        1\n",
      "Милана        1\n",
      "Name: count, Length: 194, dtype: int64\n"
     ]
    }
   ],
   "source": [
    "#поиск дубликатов\n",
    "print('Количество дубликатов в датафрейм с поездками', data_rides_go.duplicated().sum())\n",
    "print('Количество дубликатов в датафрейм пользователи', data_users_go.duplicated().sum())\n",
    "\n",
    "print(data_users_go['name'].value_counts())\n",
    "\n",
    "#удалить дубликаты\n",
    "data_users_go = data_users_go.drop_duplicates()\n"
   ]
  },
  {
   "cell_type": "markdown",
   "id": "4ac4a10d",
   "metadata": {},
   "source": [
    "Выявлены дубликаты 31 шт, таблица очищена от дубликатов."
   ]
  },
  {
   "cell_type": "code",
   "execution_count": 25,
   "id": "12c19184",
   "metadata": {},
   "outputs": [
    {
     "name": "stdout",
     "output_type": "stream",
     "text": [
      "Минимальная дата в периоде наблюдения 2021-01-01 00:00:00\n",
      "Максимальная дата в периоде наблюдения 2021-12-30 00:00:00\n"
     ]
    }
   ],
   "source": [
    "# проверка диапазона периода данных\n",
    "print('Минимальная дата в периоде наблюдения', data_rides_go['date'].min())\n",
    "print('Максимальная дата в периоде наблюдения', data_rides_go['date'].max())"
   ]
  },
  {
   "cell_type": "markdown",
   "id": "e8b6457e",
   "metadata": {},
   "source": [
    "\n",
    "\n",
    "Даты в пределах одного года, поэтому месяц можно выделять, перекосов не будет.\n",
    "    "
   ]
  },
  {
   "cell_type": "code",
   "execution_count": 26,
   "id": "77a0e13e",
   "metadata": {},
   "outputs": [
    {
     "data": {
      "text/plain": [
       "count    18068.000000\n",
       "mean        17.805011\n",
       "std          6.091051\n",
       "min          0.500000\n",
       "25%         13.597563\n",
       "50%         17.678395\n",
       "75%         21.724800\n",
       "max         40.823963\n",
       "Name: duration, dtype: float64"
      ]
     },
     "metadata": {},
     "output_type": "display_data"
    },
    {
     "data": {
      "image/png": "[encoded data removed]",
      "text/plain": [
       "<Figure size 640x480 with 1 Axes>"
      ]
     },
     "metadata": {},
     "output_type": "display_data"
    }
   ],
   "source": [
    "display(data_rides_go['duration'].describe())\n",
    "data_rides_go['duration'].plot.box()\n",
    "plt.title('Продолжительность поездки')\n",
    "plt.show()"
   ]
  },
  {
   "cell_type": "code",
   "execution_count": 27,
   "id": "a57aba4c",
   "metadata": {},
   "outputs": [
    {
     "data": {
      "text/html": [
       "<div>\n",
       "<style scoped>\n",
       "    .dataframe tbody tr th:only-of-type {\n",
       "        vertical-align: middle;\n",
       "    }\n",
       "\n",
       "    .dataframe tbody tr th {\n",
       "        vertical-align: top;\n",
       "    }\n",
       "\n",
       "    .dataframe thead th {\n",
       "        text-align: right;\n",
       "    }\n",
       "</style>\n",
       "<table border=\"1\" class=\"dataframe\">\n",
       "  <thead>\n",
       "    <tr style=\"text-align: right;\">\n",
       "      <th></th>\n",
       "      <th>user_id</th>\n",
       "      <th>distance</th>\n",
       "      <th>duration</th>\n",
       "      <th>date</th>\n",
       "      <th>month</th>\n",
       "    </tr>\n",
       "  </thead>\n",
       "  <tbody>\n",
       "    <tr>\n",
       "      <th>0</th>\n",
       "      <td>1</td>\n",
       "      <td>4409.92</td>\n",
       "      <td>25.599769</td>\n",
       "      <td>2021-01-01</td>\n",
       "      <td>1</td>\n",
       "    </tr>\n",
       "    <tr>\n",
       "      <th>1</th>\n",
       "      <td>1</td>\n",
       "      <td>2617.59</td>\n",
       "      <td>15.816871</td>\n",
       "      <td>2021-01-18</td>\n",
       "      <td>1</td>\n",
       "    </tr>\n",
       "    <tr>\n",
       "      <th>2</th>\n",
       "      <td>1</td>\n",
       "      <td>754.16</td>\n",
       "      <td>6.232113</td>\n",
       "      <td>2021-04-20</td>\n",
       "      <td>4</td>\n",
       "    </tr>\n",
       "    <tr>\n",
       "      <th>3</th>\n",
       "      <td>1</td>\n",
       "      <td>2694.78</td>\n",
       "      <td>18.511000</td>\n",
       "      <td>2021-08-11</td>\n",
       "      <td>8</td>\n",
       "    </tr>\n",
       "    <tr>\n",
       "      <th>4</th>\n",
       "      <td>1</td>\n",
       "      <td>4028.69</td>\n",
       "      <td>26.265803</td>\n",
       "      <td>2021-08-28</td>\n",
       "      <td>8</td>\n",
       "    </tr>\n",
       "  </tbody>\n",
       "</table>\n",
       "</div>"
      ],
      "text/plain": [
       "   user_id  distance   duration       date  month\n",
       "0        1   4409.92  25.599769 2021-01-01      1\n",
       "1        1   2617.59  15.816871 2021-01-18      1\n",
       "2        1    754.16   6.232113 2021-04-20      4\n",
       "3        1   2694.78  18.511000 2021-08-11      8\n",
       "4        1   4028.69  26.265803 2021-08-28      8"
      ]
     },
     "execution_count": 27,
     "metadata": {},
     "output_type": "execute_result"
    }
   ],
   "source": [
    "data_rides_go['distance'] = data_rides_go['distance'].round(2)\n",
    "data_rides_go.head()"
   ]
  },
  {
   "cell_type": "code",
   "execution_count": 28,
   "id": "c0747265",
   "metadata": {},
   "outputs": [
    {
     "data": {
      "text/plain": [
       "np.int64(95)"
      ]
     },
     "execution_count": 28,
     "metadata": {},
     "output_type": "execute_result"
    }
   ],
   "source": [
    "data_rides_go[data_rides_go['duration']<1]['duration'].count()"
   ]
  },
  {
   "cell_type": "markdown",
   "id": "42b43598",
   "metadata": {},
   "source": [
    "\n",
    "    \n",
    "В продолжительности поездки имеются значения менее 1 минуты в количестве 95 шт - это аномально малое время, которое может повлиять на корректность исследования, предпочтительно их удалить.\n",
    "    \n",
    "Дальние поездки свыше 35 минут - также выходят за рамки 1,5 межквартильного размаха. Считаю, что их удалять не целесообразно, т к они вносят значительный вклад в показатель выручки."
   ]
  },
  {
   "cell_type": "code",
   "execution_count": 29,
   "id": "58b03025",
   "metadata": {},
   "outputs": [
    {
     "name": "stdout",
     "output_type": "stream",
     "text": [
      "<class 'pandas.core.frame.DataFrame'>\n",
      "Index: 17973 entries, 0 to 18067\n",
      "Data columns (total 5 columns):\n",
      " #   Column    Non-Null Count  Dtype         \n",
      "---  ------    --------------  -----         \n",
      " 0   user_id   17973 non-null  int64         \n",
      " 1   distance  17973 non-null  float64       \n",
      " 2   duration  17973 non-null  float64       \n",
      " 3   date      17973 non-null  datetime64[ns]\n",
      " 4   month     17973 non-null  int32         \n",
      "dtypes: datetime64[ns](1), float64(2), int32(1), int64(1)\n",
      "memory usage: 772.3 KB\n"
     ]
    }
   ],
   "source": [
    "data_rides_go = data_rides_go[data_rides_go['duration']>=1]\n",
    "data_rides_go.info()"
   ]
  },
  {
   "cell_type": "markdown",
   "id": "21ec572b",
   "metadata": {},
   "source": [
    "<div class=\"alert alert-info\" style=\"border-radius: 10px; box-shadow: 2px 2px 2px; border: 1px solid; padding: 10px \"> \n",
    "<b></b> \n",
    "    \n",
    "В данном разделе проведена предобработка данных: дата приведена к типу даты,\n",
    "    добавлен столбец месяц для последующей агрегации данных помесячно.\n",
    "    \n",
    "Выявлены дубликаты 31 шт, таблица очищена от дубликатов.\n",
    "    \n",
    "Выявлены значения менее 1 минуты продолжительности поездки  в количестве 95 шт - это аномально малое время, которое может повлиять на корректность исследования, данные поездки удалены из анализа.\n",
    "    \n",
    "Выявлены дальние поездки свыше 35 минут которые также выходят за рамки 1,5 межквартильного размаха. Считаю, что их удалять не целесообразно, т к они вносят значительный вклад в показатель выручки."
   ]
  },
  {
   "cell_type": "markdown",
   "id": "212593c7",
   "metadata": {},
   "source": [
    "###  Исследовательский анализ данных\n"
   ]
  },
  {
   "cell_type": "markdown",
   "id": "8836a37b",
   "metadata": {},
   "source": [
    "#### частота встречаемости городов\n",
    "<a id='section2_id'></a>"
   ]
  },
  {
   "cell_type": "code",
   "execution_count": 30,
   "id": "e3a4274c",
   "metadata": {},
   "outputs": [
    {
     "data": {
      "text/html": [
       "<div>\n",
       "<style scoped>\n",
       "    .dataframe tbody tr th:only-of-type {\n",
       "        vertical-align: middle;\n",
       "    }\n",
       "\n",
       "    .dataframe tbody tr th {\n",
       "        vertical-align: top;\n",
       "    }\n",
       "\n",
       "    .dataframe thead th {\n",
       "        text-align: right;\n",
       "    }\n",
       "</style>\n",
       "<table border=\"1\" class=\"dataframe\">\n",
       "  <thead>\n",
       "    <tr style=\"text-align: right;\">\n",
       "      <th></th>\n",
       "      <th>user_id</th>\n",
       "    </tr>\n",
       "    <tr>\n",
       "      <th>city</th>\n",
       "      <th></th>\n",
       "    </tr>\n",
       "  </thead>\n",
       "  <tbody>\n",
       "    <tr>\n",
       "      <th>Екатеринбург</th>\n",
       "      <td>204</td>\n",
       "    </tr>\n",
       "    <tr>\n",
       "      <th>Краснодар</th>\n",
       "      <td>193</td>\n",
       "    </tr>\n",
       "    <tr>\n",
       "      <th>Москва</th>\n",
       "      <td>168</td>\n",
       "    </tr>\n",
       "    <tr>\n",
       "      <th>Омск</th>\n",
       "      <td>183</td>\n",
       "    </tr>\n",
       "    <tr>\n",
       "      <th>Пятигорск</th>\n",
       "      <td>219</td>\n",
       "    </tr>\n",
       "    <tr>\n",
       "      <th>Ростов-на-Дону</th>\n",
       "      <td>198</td>\n",
       "    </tr>\n",
       "    <tr>\n",
       "      <th>Сочи</th>\n",
       "      <td>189</td>\n",
       "    </tr>\n",
       "    <tr>\n",
       "      <th>Тюмень</th>\n",
       "      <td>180</td>\n",
       "    </tr>\n",
       "  </tbody>\n",
       "</table>\n",
       "</div>"
      ],
      "text/plain": [
       "                user_id\n",
       "city                   \n",
       "Екатеринбург        204\n",
       "Краснодар           193\n",
       "Москва              168\n",
       "Омск                183\n",
       "Пятигорск           219\n",
       "Ростов-на-Дону      198\n",
       "Сочи                189\n",
       "Тюмень              180"
      ]
     },
     "metadata": {},
     "output_type": "display_data"
    },
    {
     "data": {
      "image/png": "[encoded data removed]",
      "text/plain": [
       "<Figure size 1200x600 with 1 Axes>"
      ]
     },
     "metadata": {},
     "output_type": "display_data"
    }
   ],
   "source": [
    "#частота встречаемости городов\n",
    "data_users_go_pivot_city = data_users_go.pivot_table(index = 'city', values = 'user_id', aggfunc = 'count')\n",
    "\n",
    "display(data_users_go_pivot_city)\n",
    "ax = data_users_go_pivot_city.plot(kind = 'bar', figsize = (12,6))\n",
    "plt.title('Распределение пользователей по городам') \n",
    "\n",
    "# настраиваем оптимальное расположение легенды и выводим график\n",
    "ax.legend(loc='best')\n",
    "plt.show()"
   ]
  },
  {
   "cell_type": "markdown",
   "id": "acc4091c",
   "metadata": {},
   "source": [
    "\n",
    "    Распределение пользователей по городам примерно одинаковое, наибольшее количество в Пятигорске - 206, наименьшее в Москве  - 172."
   ]
  },
  {
   "cell_type": "markdown",
   "id": "f03576db",
   "metadata": {},
   "source": [
    "#### Cоотношение пользователей с подпиской и без подписки\n",
    "<a id='section2_id'></a>"
   ]
  },
  {
   "cell_type": "code",
   "execution_count": 31,
   "id": "0cd58d62",
   "metadata": {},
   "outputs": [
    {
     "data": {
      "text/html": [
       "<div>\n",
       "<style scoped>\n",
       "    .dataframe tbody tr th:only-of-type {\n",
       "        vertical-align: middle;\n",
       "    }\n",
       "\n",
       "    .dataframe tbody tr th {\n",
       "        vertical-align: top;\n",
       "    }\n",
       "\n",
       "    .dataframe thead th {\n",
       "        text-align: right;\n",
       "    }\n",
       "</style>\n",
       "<table border=\"1\" class=\"dataframe\">\n",
       "  <thead>\n",
       "    <tr style=\"text-align: right;\">\n",
       "      <th></th>\n",
       "      <th>user_id</th>\n",
       "    </tr>\n",
       "    <tr>\n",
       "      <th>subscription_type</th>\n",
       "      <th></th>\n",
       "    </tr>\n",
       "  </thead>\n",
       "  <tbody>\n",
       "    <tr>\n",
       "      <th>free</th>\n",
       "      <td>835</td>\n",
       "    </tr>\n",
       "    <tr>\n",
       "      <th>ultra</th>\n",
       "      <td>699</td>\n",
       "    </tr>\n",
       "  </tbody>\n",
       "</table>\n",
       "</div>"
      ],
      "text/plain": [
       "                   user_id\n",
       "subscription_type         \n",
       "free                   835\n",
       "ultra                  699"
      ]
     },
     "metadata": {},
     "output_type": "display_data"
    },
    {
     "data": {
      "text/html": [
       "<div>\n",
       "<style scoped>\n",
       "    .dataframe tbody tr th:only-of-type {\n",
       "        vertical-align: middle;\n",
       "    }\n",
       "\n",
       "    .dataframe tbody tr th {\n",
       "        vertical-align: top;\n",
       "    }\n",
       "\n",
       "    .dataframe thead th {\n",
       "        text-align: right;\n",
       "    }\n",
       "</style>\n",
       "<table border=\"1\" class=\"dataframe\">\n",
       "  <thead>\n",
       "    <tr style=\"text-align: right;\">\n",
       "      <th></th>\n",
       "      <th>user_id</th>\n",
       "    </tr>\n",
       "    <tr>\n",
       "      <th>subscription_type</th>\n",
       "      <th></th>\n",
       "    </tr>\n",
       "  </thead>\n",
       "  <tbody>\n",
       "    <tr>\n",
       "      <th>free</th>\n",
       "      <td>0.544329</td>\n",
       "    </tr>\n",
       "    <tr>\n",
       "      <th>ultra</th>\n",
       "      <td>0.455671</td>\n",
       "    </tr>\n",
       "  </tbody>\n",
       "</table>\n",
       "</div>"
      ],
      "text/plain": [
       "                    user_id\n",
       "subscription_type          \n",
       "free               0.544329\n",
       "ultra              0.455671"
      ]
     },
     "execution_count": 31,
     "metadata": {},
     "output_type": "execute_result"
    }
   ],
   "source": [
    "#соотношение пользователей с подпиской и без подписки\n",
    "\n",
    "data_users_pivot_subscription_type = data_users_go.pivot_table(index = 'subscription_type', values = 'user_id', aggfunc = 'count')\n",
    "percent_values = data_users_pivot_subscription_type.transform(lambda x: x / data_users_pivot_subscription_type['user_id'].sum())\n",
    "display(data_users_pivot_subscription_type)\n",
    "percent_values"
   ]
  },
  {
   "cell_type": "markdown",
   "id": "f7d5b613",
   "metadata": {},
   "source": [
    "\n",
    "    Пользователи с подпиской составляют порядка 46%, без подписки - 54%"
   ]
  },
  {
   "cell_type": "code",
   "execution_count": 32,
   "id": "204cdeba",
   "metadata": {},
   "outputs": [
    {
     "data": {
      "image/png": "[encoded data removed]",
      "text/plain": [
       "<Figure size 640x480 with 1 Axes>"
      ]
     },
     "metadata": {},
     "output_type": "display_data"
    }
   ],
   "source": [
    "ax = percent_values.plot(x='subscription_type', y='user_id', kind='pie', autopct='%.1f', radius = 1.1)\n",
    "plt.title('Количество пользователей c подпиской и без (%)')\n",
    "plt.legend(\n",
    "    bbox_to_anchor = (-0.16, 0.45, 0.25, 0.25),\n",
    "    loc = 'best', labels = 'subscription_type' )\n",
    "plt.show()"
   ]
  },
  {
   "cell_type": "markdown",
   "id": "98d50300",
   "metadata": {},
   "source": [
    "#### возраст пользователей\n",
    "<a id='section22_id'></a>"
   ]
  },
  {
   "cell_type": "code",
   "execution_count": 33,
   "id": "0e21395b",
   "metadata": {},
   "outputs": [
    {
     "data": {
      "image/png": "[encoded data removed]",
      "text/plain": [
       "<Figure size 1200x600 with 1 Axes>"
      ]
     },
     "metadata": {},
     "output_type": "display_data"
    }
   ],
   "source": [
    "#возраст пользователей\n",
    "data_users_go_age_pivot = data_users_go.pivot_table(index = 'age', values = 'user_id', aggfunc = 'count')\n",
    "data_users_go_age_pivot.plot(kind = 'bar', figsize = (12,6))\n",
    "\n",
    "plt.title('Возраст пользователей')\n",
    "plt.xlabel('Возраст, лет')\n",
    "plt.ylabel('Количество пользователей')\n",
    "\n",
    "plt.show()"
   ]
  },
  {
   "cell_type": "markdown",
   "id": "03217e7c",
   "metadata": {},
   "source": [
    "Основной диапазон пользователей от 22 до 28 лет (средний возраст 25 лет)"
   ]
  },
  {
   "cell_type": "code",
   "execution_count": 34,
   "id": "07aa4465",
   "metadata": {},
   "outputs": [
    {
     "data": {
      "text/plain": [
       "count    1534.000000\n",
       "mean       24.903520\n",
       "std         4.572367\n",
       "min        12.000000\n",
       "25%        22.000000\n",
       "50%        25.000000\n",
       "75%        28.000000\n",
       "max        43.000000\n",
       "Name: age, dtype: float64"
      ]
     },
     "execution_count": 34,
     "metadata": {},
     "output_type": "execute_result"
    }
   ],
   "source": [
    "data_users_go['age'].describe()"
   ]
  },
  {
   "cell_type": "markdown",
   "id": "ac2335a1",
   "metadata": {},
   "source": [
    "#### расстояние, которое пользователь преодолел за одну поездку\n",
    "<a id='section23_id'></a>"
   ]
  },
  {
   "cell_type": "code",
   "execution_count": 35,
   "id": "dc34bb89",
   "metadata": {},
   "outputs": [
    {
     "data": {
      "text/plain": [
       "<Axes: xlabel='user_id', ylabel='distance'>"
      ]
     },
     "execution_count": 35,
     "metadata": {},
     "output_type": "execute_result"
    },
    {
     "data": {
      "image/png": "[encoded data removed]",
      "text/plain": [
       "<Figure size 640x480 with 1 Axes>"
      ]
     },
     "metadata": {},
     "output_type": "display_data"
    },
    {
     "data": {
      "image/png": "[encoded data removed]",
      "text/plain": [
       "<Figure size 800x600 with 2 Axes>"
      ]
     },
     "metadata": {},
     "output_type": "display_data"
    }
   ],
   "source": [
    "#расстояние, которое пользователь преодолел за одну поездку\n",
    "data_rides_go.plot(x='user_id', y='distance', style = '-')\n",
    "data_rides_go.plot(x='user_id', y='distance', kind = 'hexbin', gridsize = 20, figsize = (8,6), sharex = False)\n"
   ]
  },
  {
   "cell_type": "markdown",
   "id": "90eca3ba",
   "metadata": {},
   "source": [
    "\n",
    "    Чаще всего пользователи совершали поездку в 3-3,5 км, но есть и более дальние поездки - до 7 км, и очень короткие - 100-200 метров."
   ]
  },
  {
   "cell_type": "markdown",
   "id": "7262dcd7",
   "metadata": {},
   "source": [
    "#### продолжительность поездок\n",
    "<a id='section24_id'></a>"
   ]
  },
  {
   "cell_type": "code",
   "execution_count": 36,
   "id": "fc949821",
   "metadata": {},
   "outputs": [
    {
     "data": {
      "text/plain": [
       "<Axes: xlabel='user_id', ylabel='duration'>"
      ]
     },
     "execution_count": 36,
     "metadata": {},
     "output_type": "execute_result"
    },
    {
     "data": {
      "image/png": "[encoded data removed]",
      "text/plain": [
       "<Figure size 640x480 with 1 Axes>"
      ]
     },
     "metadata": {},
     "output_type": "display_data"
    },
    {
     "data": {
      "image/png": "[encoded data removed]",
      "text/plain": [
       "<Figure size 800x600 with 2 Axes>"
      ]
     },
     "metadata": {},
     "output_type": "display_data"
    }
   ],
   "source": [
    "#продолжительность поездок\n",
    "data_rides_go.plot(x='user_id', y='duration', style = '-')\n",
    "data_rides_go.plot(x='user_id', y='duration', kind = 'hexbin', gridsize = 20, figsize = (8,6), sharex = False)\n"
   ]
  },
  {
   "cell_type": "markdown",
   "id": "052f7393",
   "metadata": {},
   "source": [
    "\n",
    "    Чаще всего время поездки составляло 15-20 минут, отдельные поездки - до 40 минут."
   ]
  },
  {
   "cell_type": "code",
   "execution_count": 37,
   "id": "0a7deec7",
   "metadata": {
    "scrolled": false
   },
   "outputs": [
    {
     "data": {
      "image/png": "[encoded data removed]",
      "text/plain": [
       "<Figure size 640x480 with 1 Axes>"
      ]
     },
     "metadata": {},
     "output_type": "display_data"
    },
    {
     "data": {
      "image/png": "[encoded data removed]",
      "text/plain": [
       "<Figure size 640x480 with 1 Axes>"
      ]
     },
     "metadata": {},
     "output_type": "display_data"
    },
    {
     "data": {
      "image/png": "[encoded data removed]",
      "text/plain": [
       "<Figure size 640x480 with 1 Axes>"
      ]
     },
     "metadata": {},
     "output_type": "display_data"
    },
    {
     "data": {
      "image/png": "[encoded data removed]",
      "text/plain": [
       "<Figure size 640x480 with 1 Axes>"
      ]
     },
     "metadata": {},
     "output_type": "display_data"
    }
   ],
   "source": [
    "data_rides_go['duration'].plot.box()\n",
    "plt.title('Продолжительность поездки')\n",
    "plt.show()\n",
    "\n",
    "data_rides_go['duration'].plot.hist()\n",
    "plt.title('Продолжительность поездки')\n",
    "plt.grid(True)\n",
    "plt.xlabel('Время поездки, мин')\n",
    "plt.ylabel('Количество поездок')\n",
    "plt.show()\n",
    "\n",
    "data_rides_go['distance'].plot.box()\n",
    "plt.title('Расстояние за одну поездку')\n",
    "plt.show()\n",
    "\n",
    "data_rides_go['distance'].plot.hist()\n",
    "plt.title('Расстояние за одну поездку')\n",
    "plt.grid(True)\n",
    "plt.xlabel('Расстояние, м')\n",
    "plt.ylabel('Количество поездок')\n",
    "plt.show()"
   ]
  },
  {
   "cell_type": "markdown",
   "id": "4ef51331",
   "metadata": {},
   "source": [
    "### Объединение данных\n",
    "<a id='section3_id'></a>"
   ]
  },
  {
   "cell_type": "code",
   "execution_count": 38,
   "id": "a8a95dc4",
   "metadata": {},
   "outputs": [
    {
     "name": "stdout",
     "output_type": "stream",
     "text": [
      "Количество дубликатов в датафрейм с поездками 0\n",
      "Количество дубликатов в датафрейм пользователи 0\n",
      "Исходное количество поездок 17973\n"
     ]
    }
   ],
   "source": [
    "print('Количество дубликатов в датафрейм с поездками', data_rides_go.duplicated().sum())\n",
    "print('Количество дубликатов в датафрейм пользователи', data_users_go.duplicated().sum())\n",
    "\n",
    "count_rides_first = data_rides_go['user_id'].count()\n",
    "print('Исходное количество поездок', count_rides_first)"
   ]
  },
  {
   "cell_type": "code",
   "execution_count": 39,
   "id": "6bf288b5",
   "metadata": {},
   "outputs": [
    {
     "data": {
      "text/html": [
       "<div>\n",
       "<style scoped>\n",
       "    .dataframe tbody tr th:only-of-type {\n",
       "        vertical-align: middle;\n",
       "    }\n",
       "\n",
       "    .dataframe tbody tr th {\n",
       "        vertical-align: top;\n",
       "    }\n",
       "\n",
       "    .dataframe thead th {\n",
       "        text-align: right;\n",
       "    }\n",
       "</style>\n",
       "<table border=\"1\" class=\"dataframe\">\n",
       "  <thead>\n",
       "    <tr style=\"text-align: right;\">\n",
       "      <th></th>\n",
       "      <th>user_id</th>\n",
       "      <th>distance</th>\n",
       "      <th>duration</th>\n",
       "      <th>date</th>\n",
       "      <th>month</th>\n",
       "      <th>name</th>\n",
       "      <th>age</th>\n",
       "      <th>city</th>\n",
       "      <th>subscription_type</th>\n",
       "    </tr>\n",
       "  </thead>\n",
       "  <tbody>\n",
       "    <tr>\n",
       "      <th>0</th>\n",
       "      <td>1</td>\n",
       "      <td>4409.92</td>\n",
       "      <td>25.599769</td>\n",
       "      <td>2021-01-01</td>\n",
       "      <td>1</td>\n",
       "      <td>Кира</td>\n",
       "      <td>22</td>\n",
       "      <td>Тюмень</td>\n",
       "      <td>ultra</td>\n",
       "    </tr>\n",
       "    <tr>\n",
       "      <th>1</th>\n",
       "      <td>1</td>\n",
       "      <td>2617.59</td>\n",
       "      <td>15.816871</td>\n",
       "      <td>2021-01-18</td>\n",
       "      <td>1</td>\n",
       "      <td>Кира</td>\n",
       "      <td>22</td>\n",
       "      <td>Тюмень</td>\n",
       "      <td>ultra</td>\n",
       "    </tr>\n",
       "    <tr>\n",
       "      <th>2</th>\n",
       "      <td>1</td>\n",
       "      <td>754.16</td>\n",
       "      <td>6.232113</td>\n",
       "      <td>2021-04-20</td>\n",
       "      <td>4</td>\n",
       "      <td>Кира</td>\n",
       "      <td>22</td>\n",
       "      <td>Тюмень</td>\n",
       "      <td>ultra</td>\n",
       "    </tr>\n",
       "    <tr>\n",
       "      <th>3</th>\n",
       "      <td>1</td>\n",
       "      <td>2694.78</td>\n",
       "      <td>18.511000</td>\n",
       "      <td>2021-08-11</td>\n",
       "      <td>8</td>\n",
       "      <td>Кира</td>\n",
       "      <td>22</td>\n",
       "      <td>Тюмень</td>\n",
       "      <td>ultra</td>\n",
       "    </tr>\n",
       "    <tr>\n",
       "      <th>4</th>\n",
       "      <td>1</td>\n",
       "      <td>4028.69</td>\n",
       "      <td>26.265803</td>\n",
       "      <td>2021-08-28</td>\n",
       "      <td>8</td>\n",
       "      <td>Кира</td>\n",
       "      <td>22</td>\n",
       "      <td>Тюмень</td>\n",
       "      <td>ultra</td>\n",
       "    </tr>\n",
       "  </tbody>\n",
       "</table>\n",
       "</div>"
      ],
      "text/plain": [
       "   user_id  distance   duration       date  month  name  age    city  \\\n",
       "0        1   4409.92  25.599769 2021-01-01      1  Кира   22  Тюмень   \n",
       "1        1   2617.59  15.816871 2021-01-18      1  Кира   22  Тюмень   \n",
       "2        1    754.16   6.232113 2021-04-20      4  Кира   22  Тюмень   \n",
       "3        1   2694.78  18.511000 2021-08-11      8  Кира   22  Тюмень   \n",
       "4        1   4028.69  26.265803 2021-08-28      8  Кира   22  Тюмень   \n",
       "\n",
       "  subscription_type  \n",
       "0             ultra  \n",
       "1             ultra  \n",
       "2             ultra  \n",
       "3             ultra  \n",
       "4             ultra  "
      ]
     },
     "execution_count": 39,
     "metadata": {},
     "output_type": "execute_result"
    }
   ],
   "source": [
    "#обогащение таблицы с поездками данными о пользователях и подписках (полная)\n",
    "data_full = data_rides_go.merge(data_users_go, on = 'user_id', how = 'left')\n",
    "\n",
    "data_full.head()"
   ]
  },
  {
   "cell_type": "code",
   "execution_count": 40,
   "id": "54a2e241",
   "metadata": {},
   "outputs": [
    {
     "name": "stdout",
     "output_type": "stream",
     "text": [
      "Количество поездок после обогащения 17973\n"
     ]
    }
   ],
   "source": [
    "count_rides_last = data_full['user_id'].count()\n",
    "print('Количество поездок после обогащения', count_rides_first)"
   ]
  },
  {
   "cell_type": "code",
   "execution_count": 41,
   "id": "734b40a5",
   "metadata": {},
   "outputs": [
    {
     "name": "stdout",
     "output_type": "stream",
     "text": [
      "<class 'pandas.core.frame.DataFrame'>\n",
      "Index: 17973 entries, 0 to 18067\n",
      "Data columns (total 5 columns):\n",
      " #   Column    Non-Null Count  Dtype         \n",
      "---  ------    --------------  -----         \n",
      " 0   user_id   17973 non-null  int64         \n",
      " 1   distance  17973 non-null  float64       \n",
      " 2   duration  17973 non-null  float64       \n",
      " 3   date      17973 non-null  datetime64[ns]\n",
      " 4   month     17973 non-null  int32         \n",
      "dtypes: datetime64[ns](1), float64(2), int32(1), int64(1)\n",
      "memory usage: 772.3 KB\n",
      "<class 'pandas.core.frame.DataFrame'>\n",
      "RangeIndex: 17973 entries, 0 to 17972\n",
      "Data columns (total 9 columns):\n",
      " #   Column             Non-Null Count  Dtype         \n",
      "---  ------             --------------  -----         \n",
      " 0   user_id            17973 non-null  int64         \n",
      " 1   distance           17973 non-null  float64       \n",
      " 2   duration           17973 non-null  float64       \n",
      " 3   date               17973 non-null  datetime64[ns]\n",
      " 4   month              17973 non-null  int32         \n",
      " 5   name               17973 non-null  object        \n",
      " 6   age                17973 non-null  int64         \n",
      " 7   city               17973 non-null  object        \n",
      " 8   subscription_type  17973 non-null  object        \n",
      "dtypes: datetime64[ns](1), float64(2), int32(1), int64(2), object(3)\n",
      "memory usage: 1.2+ MB\n"
     ]
    },
    {
     "data": {
      "text/plain": [
       "np.int64(17973)"
      ]
     },
     "execution_count": 41,
     "metadata": {},
     "output_type": "execute_result"
    }
   ],
   "source": [
    "data_rides_go.info()\n",
    "data_full.info()\n",
    "data_full['user_id'].count()"
   ]
  },
  {
   "cell_type": "code",
   "execution_count": 42,
   "id": "44250311",
   "metadata": {},
   "outputs": [
    {
     "data": {
      "text/html": [
       "<div>\n",
       "<style scoped>\n",
       "    .dataframe tbody tr th:only-of-type {\n",
       "        vertical-align: middle;\n",
       "    }\n",
       "\n",
       "    .dataframe tbody tr th {\n",
       "        vertical-align: top;\n",
       "    }\n",
       "\n",
       "    .dataframe thead th {\n",
       "        text-align: right;\n",
       "    }\n",
       "</style>\n",
       "<table border=\"1\" class=\"dataframe\">\n",
       "  <thead>\n",
       "    <tr style=\"text-align: right;\">\n",
       "      <th></th>\n",
       "      <th>user_id</th>\n",
       "      <th>distance</th>\n",
       "      <th>duration</th>\n",
       "      <th>date</th>\n",
       "      <th>month</th>\n",
       "      <th>name</th>\n",
       "      <th>age</th>\n",
       "      <th>city</th>\n",
       "      <th>subscription_type</th>\n",
       "    </tr>\n",
       "  </thead>\n",
       "  <tbody>\n",
       "    <tr>\n",
       "      <th>6500</th>\n",
       "      <td>700</td>\n",
       "      <td>2515.69</td>\n",
       "      <td>14.944286</td>\n",
       "      <td>2021-01-02</td>\n",
       "      <td>1</td>\n",
       "      <td>Айдар</td>\n",
       "      <td>22</td>\n",
       "      <td>Омск</td>\n",
       "      <td>free</td>\n",
       "    </tr>\n",
       "    <tr>\n",
       "      <th>6501</th>\n",
       "      <td>700</td>\n",
       "      <td>846.93</td>\n",
       "      <td>16.234663</td>\n",
       "      <td>2021-02-01</td>\n",
       "      <td>2</td>\n",
       "      <td>Айдар</td>\n",
       "      <td>22</td>\n",
       "      <td>Омск</td>\n",
       "      <td>free</td>\n",
       "    </tr>\n",
       "    <tr>\n",
       "      <th>6502</th>\n",
       "      <td>700</td>\n",
       "      <td>4004.43</td>\n",
       "      <td>20.016628</td>\n",
       "      <td>2021-02-04</td>\n",
       "      <td>2</td>\n",
       "      <td>Айдар</td>\n",
       "      <td>22</td>\n",
       "      <td>Омск</td>\n",
       "      <td>free</td>\n",
       "    </tr>\n",
       "    <tr>\n",
       "      <th>6503</th>\n",
       "      <td>700</td>\n",
       "      <td>1205.91</td>\n",
       "      <td>9.782872</td>\n",
       "      <td>2021-02-10</td>\n",
       "      <td>2</td>\n",
       "      <td>Айдар</td>\n",
       "      <td>22</td>\n",
       "      <td>Омск</td>\n",
       "      <td>free</td>\n",
       "    </tr>\n",
       "    <tr>\n",
       "      <th>6504</th>\n",
       "      <td>700</td>\n",
       "      <td>3047.38</td>\n",
       "      <td>17.427673</td>\n",
       "      <td>2021-02-14</td>\n",
       "      <td>2</td>\n",
       "      <td>Айдар</td>\n",
       "      <td>22</td>\n",
       "      <td>Омск</td>\n",
       "      <td>free</td>\n",
       "    </tr>\n",
       "  </tbody>\n",
       "</table>\n",
       "</div>"
      ],
      "text/plain": [
       "      user_id  distance   duration       date  month   name  age  city  \\\n",
       "6500      700   2515.69  14.944286 2021-01-02      1  Айдар   22  Омск   \n",
       "6501      700    846.93  16.234663 2021-02-01      2  Айдар   22  Омск   \n",
       "6502      700   4004.43  20.016628 2021-02-04      2  Айдар   22  Омск   \n",
       "6503      700   1205.91   9.782872 2021-02-10      2  Айдар   22  Омск   \n",
       "6504      700   3047.38  17.427673 2021-02-14      2  Айдар   22  Омск   \n",
       "\n",
       "     subscription_type  \n",
       "6500              free  \n",
       "6501              free  \n",
       "6502              free  \n",
       "6503              free  \n",
       "6504              free  "
      ]
     },
     "execution_count": 42,
     "metadata": {},
     "output_type": "execute_result"
    }
   ],
   "source": [
    "#срез - таблица без подписки\n",
    "data_without_subscription = data_full.query('subscription_type != \"ultra\"')\n",
    "data_without_subscription.head()"
   ]
  },
  {
   "cell_type": "code",
   "execution_count": 43,
   "id": "7d8420bd",
   "metadata": {},
   "outputs": [
    {
     "data": {
      "text/html": [
       "<div>\n",
       "<style scoped>\n",
       "    .dataframe tbody tr th:only-of-type {\n",
       "        vertical-align: middle;\n",
       "    }\n",
       "\n",
       "    .dataframe tbody tr th {\n",
       "        vertical-align: top;\n",
       "    }\n",
       "\n",
       "    .dataframe thead th {\n",
       "        text-align: right;\n",
       "    }\n",
       "</style>\n",
       "<table border=\"1\" class=\"dataframe\">\n",
       "  <thead>\n",
       "    <tr style=\"text-align: right;\">\n",
       "      <th></th>\n",
       "      <th>user_id</th>\n",
       "      <th>distance</th>\n",
       "      <th>duration</th>\n",
       "      <th>date</th>\n",
       "      <th>month</th>\n",
       "      <th>name</th>\n",
       "      <th>age</th>\n",
       "      <th>city</th>\n",
       "      <th>subscription_type</th>\n",
       "    </tr>\n",
       "  </thead>\n",
       "  <tbody>\n",
       "    <tr>\n",
       "      <th>0</th>\n",
       "      <td>1</td>\n",
       "      <td>4409.92</td>\n",
       "      <td>25.599769</td>\n",
       "      <td>2021-01-01</td>\n",
       "      <td>1</td>\n",
       "      <td>Кира</td>\n",
       "      <td>22</td>\n",
       "      <td>Тюмень</td>\n",
       "      <td>ultra</td>\n",
       "    </tr>\n",
       "    <tr>\n",
       "      <th>1</th>\n",
       "      <td>1</td>\n",
       "      <td>2617.59</td>\n",
       "      <td>15.816871</td>\n",
       "      <td>2021-01-18</td>\n",
       "      <td>1</td>\n",
       "      <td>Кира</td>\n",
       "      <td>22</td>\n",
       "      <td>Тюмень</td>\n",
       "      <td>ultra</td>\n",
       "    </tr>\n",
       "    <tr>\n",
       "      <th>2</th>\n",
       "      <td>1</td>\n",
       "      <td>754.16</td>\n",
       "      <td>6.232113</td>\n",
       "      <td>2021-04-20</td>\n",
       "      <td>4</td>\n",
       "      <td>Кира</td>\n",
       "      <td>22</td>\n",
       "      <td>Тюмень</td>\n",
       "      <td>ultra</td>\n",
       "    </tr>\n",
       "    <tr>\n",
       "      <th>3</th>\n",
       "      <td>1</td>\n",
       "      <td>2694.78</td>\n",
       "      <td>18.511000</td>\n",
       "      <td>2021-08-11</td>\n",
       "      <td>8</td>\n",
       "      <td>Кира</td>\n",
       "      <td>22</td>\n",
       "      <td>Тюмень</td>\n",
       "      <td>ultra</td>\n",
       "    </tr>\n",
       "    <tr>\n",
       "      <th>4</th>\n",
       "      <td>1</td>\n",
       "      <td>4028.69</td>\n",
       "      <td>26.265803</td>\n",
       "      <td>2021-08-28</td>\n",
       "      <td>8</td>\n",
       "      <td>Кира</td>\n",
       "      <td>22</td>\n",
       "      <td>Тюмень</td>\n",
       "      <td>ultra</td>\n",
       "    </tr>\n",
       "  </tbody>\n",
       "</table>\n",
       "</div>"
      ],
      "text/plain": [
       "   user_id  distance   duration       date  month  name  age    city  \\\n",
       "0        1   4409.92  25.599769 2021-01-01      1  Кира   22  Тюмень   \n",
       "1        1   2617.59  15.816871 2021-01-18      1  Кира   22  Тюмень   \n",
       "2        1    754.16   6.232113 2021-04-20      4  Кира   22  Тюмень   \n",
       "3        1   2694.78  18.511000 2021-08-11      8  Кира   22  Тюмень   \n",
       "4        1   4028.69  26.265803 2021-08-28      8  Кира   22  Тюмень   \n",
       "\n",
       "  subscription_type  \n",
       "0             ultra  \n",
       "1             ultra  \n",
       "2             ultra  \n",
       "3             ultra  \n",
       "4             ultra  "
      ]
     },
     "execution_count": 43,
     "metadata": {},
     "output_type": "execute_result"
    }
   ],
   "source": [
    "# срез - таблица с подпиской\n",
    "data_subscription = data_full.query('subscription_type == \"ultra\"')\n",
    "data_subscription.head()"
   ]
  },
  {
   "cell_type": "code",
   "execution_count": 44,
   "id": "c7b7af6b",
   "metadata": {},
   "outputs": [
    {
     "data": {
      "image/png": "[encoded data removed]",
      "text/plain": [
       "<Figure size 1200x600 with 1 Axes>"
      ]
     },
     "metadata": {},
     "output_type": "display_data"
    }
   ],
   "source": [
    "data_subscription['distance'].plot(kind='hist', \n",
    "                                   figsize=(12,6),\n",
    "                                   bins=50, \n",
    "                                   alpha=0.3)\n",
    "data_without_subscription['distance'].plot(kind='hist', \n",
    "                                    figsize=(12,6),\n",
    "                                    bins=50, \n",
    "                                    alpha=0.3) \n",
    "\n",
    "\n",
    "plt.title('Расстояние поездок пользователей с подпиской и без подписки')\n",
    "plt.grid(True)\n",
    "plt.xlabel('Расстояние, м')\n",
    "plt.ylabel('Количество поездок')\n",
    "plt.legend(['с подпиской', 'без подписки'], loc = 'upper right')\n",
    "\n",
    "plt.show()"
   ]
  },
  {
   "cell_type": "markdown",
   "id": "3f98ce12",
   "metadata": {},
   "source": [
    "Среднее расстояние пользователей с подпиской и без примерно одинаковое - 3000 метров, однако пользователи без подписки чаще совершают поездки на очень короткое расстояние (до 1000 метров)."
   ]
  },
  {
   "cell_type": "code",
   "execution_count": 45,
   "id": "2fa40a7d",
   "metadata": {},
   "outputs": [
    {
     "data": {
      "image/png": "[encoded data removed]",
      "text/plain": [
       "<Figure size 1200x600 with 1 Axes>"
      ]
     },
     "metadata": {},
     "output_type": "display_data"
    }
   ],
   "source": [
    "data_subscription['duration'].plot(kind='hist', \n",
    "                                   figsize=(12,6),\n",
    "                                   bins=50, \n",
    "                                   alpha=0.3)\n",
    "data_without_subscription['duration'].plot(kind='hist', \n",
    "                                    figsize=(12,6),\n",
    "                                    bins=50, \n",
    "                                    alpha=0.3) \n",
    "\n",
    "\n",
    "plt.title('Продолжительность поездок пользователей с подпиской и без подписки')\n",
    "plt.grid(True)\n",
    "plt.xlabel('Расстояние, м')\n",
    "plt.ylabel('Количество поездок')\n",
    "plt.legend(['с подпиской', 'без подписки'], loc = 'upper right')\n",
    "\n",
    "plt.show()"
   ]
  },
  {
   "cell_type": "markdown",
   "id": "241679bf",
   "metadata": {},
   "source": [
    "<div class=\"alert alert-info\" style=\"border-radius: 10px; box-shadow: 2px 2px 2px; border: 1px solid; padding: 10px \"> \n",
    "<b></b> \n",
    "    \n",
    "Среднее расстояние пользователей с подпиской и без примерно одинаковое - 3000 метров, однако пользователи без подписки чаще совершают поездки на очень короткое расстояние (до 1000 метров).\n",
    "    \n",
    "Среднее время поездки для пользователей с подпиской 13-23 минуты, для пользователей без подписки диапазон чуть шире - 12-24 минуты, при чем у пользователей без подписки количество коротких поездок (до 5 минут) также больше.\n",
    "    Пользователи с подпиской совершали самые длительные поездки - более 35 минут."
   ]
  },
  {
   "cell_type": "markdown",
   "id": "402d620f",
   "metadata": {},
   "source": [
    "### Подсчёт выручки\n",
    "<a id='section4_id'></a>"
   ]
  },
  {
   "cell_type": "code",
   "execution_count": 46,
   "id": "53049e0a",
   "metadata": {},
   "outputs": [
    {
     "data": {
      "text/html": [
       "<div>\n",
       "<style scoped>\n",
       "    .dataframe tbody tr th:only-of-type {\n",
       "        vertical-align: middle;\n",
       "    }\n",
       "\n",
       "    .dataframe tbody tr th {\n",
       "        vertical-align: top;\n",
       "    }\n",
       "\n",
       "    .dataframe thead th {\n",
       "        text-align: right;\n",
       "    }\n",
       "</style>\n",
       "<table border=\"1\" class=\"dataframe\">\n",
       "  <thead>\n",
       "    <tr style=\"text-align: right;\">\n",
       "      <th></th>\n",
       "      <th>user_id</th>\n",
       "      <th>month</th>\n",
       "      <th>subscription_type</th>\n",
       "      <th>distance</th>\n",
       "      <th>duration</th>\n",
       "      <th>minute_price</th>\n",
       "      <th>start_ride_price</th>\n",
       "      <th>subscription_fee</th>\n",
       "    </tr>\n",
       "  </thead>\n",
       "  <tbody>\n",
       "    <tr>\n",
       "      <th>0</th>\n",
       "      <td>1</td>\n",
       "      <td>1</td>\n",
       "      <td>ultra</td>\n",
       "      <td>7027.51</td>\n",
       "      <td>42.0</td>\n",
       "      <td>6</td>\n",
       "      <td>0</td>\n",
       "      <td>199</td>\n",
       "    </tr>\n",
       "    <tr>\n",
       "      <th>1</th>\n",
       "      <td>1</td>\n",
       "      <td>4</td>\n",
       "      <td>ultra</td>\n",
       "      <td>754.16</td>\n",
       "      <td>7.0</td>\n",
       "      <td>6</td>\n",
       "      <td>0</td>\n",
       "      <td>199</td>\n",
       "    </tr>\n",
       "    <tr>\n",
       "      <th>2</th>\n",
       "      <td>1</td>\n",
       "      <td>8</td>\n",
       "      <td>ultra</td>\n",
       "      <td>6723.47</td>\n",
       "      <td>45.0</td>\n",
       "      <td>6</td>\n",
       "      <td>0</td>\n",
       "      <td>199</td>\n",
       "    </tr>\n",
       "    <tr>\n",
       "      <th>3</th>\n",
       "      <td>1</td>\n",
       "      <td>10</td>\n",
       "      <td>ultra</td>\n",
       "      <td>5809.91</td>\n",
       "      <td>32.0</td>\n",
       "      <td>6</td>\n",
       "      <td>0</td>\n",
       "      <td>199</td>\n",
       "    </tr>\n",
       "    <tr>\n",
       "      <th>4</th>\n",
       "      <td>1</td>\n",
       "      <td>11</td>\n",
       "      <td>ultra</td>\n",
       "      <td>7003.50</td>\n",
       "      <td>54.0</td>\n",
       "      <td>6</td>\n",
       "      <td>0</td>\n",
       "      <td>199</td>\n",
       "    </tr>\n",
       "    <tr>\n",
       "      <th>...</th>\n",
       "      <td>...</td>\n",
       "      <td>...</td>\n",
       "      <td>...</td>\n",
       "      <td>...</td>\n",
       "      <td>...</td>\n",
       "      <td>...</td>\n",
       "      <td>...</td>\n",
       "      <td>...</td>\n",
       "    </tr>\n",
       "    <tr>\n",
       "      <th>11295</th>\n",
       "      <td>1534</td>\n",
       "      <td>6</td>\n",
       "      <td>free</td>\n",
       "      <td>3409.47</td>\n",
       "      <td>25.0</td>\n",
       "      <td>8</td>\n",
       "      <td>50</td>\n",
       "      <td>0</td>\n",
       "    </tr>\n",
       "    <tr>\n",
       "      <th>11296</th>\n",
       "      <td>1534</td>\n",
       "      <td>8</td>\n",
       "      <td>free</td>\n",
       "      <td>7622.45</td>\n",
       "      <td>48.0</td>\n",
       "      <td>8</td>\n",
       "      <td>50</td>\n",
       "      <td>0</td>\n",
       "    </tr>\n",
       "    <tr>\n",
       "      <th>11297</th>\n",
       "      <td>1534</td>\n",
       "      <td>9</td>\n",
       "      <td>free</td>\n",
       "      <td>4928.17</td>\n",
       "      <td>23.0</td>\n",
       "      <td>8</td>\n",
       "      <td>50</td>\n",
       "      <td>0</td>\n",
       "    </tr>\n",
       "    <tr>\n",
       "      <th>11298</th>\n",
       "      <td>1534</td>\n",
       "      <td>11</td>\n",
       "      <td>free</td>\n",
       "      <td>13350.02</td>\n",
       "      <td>77.0</td>\n",
       "      <td>8</td>\n",
       "      <td>50</td>\n",
       "      <td>0</td>\n",
       "    </tr>\n",
       "    <tr>\n",
       "      <th>11299</th>\n",
       "      <td>1534</td>\n",
       "      <td>12</td>\n",
       "      <td>free</td>\n",
       "      <td>2371.71</td>\n",
       "      <td>16.0</td>\n",
       "      <td>8</td>\n",
       "      <td>50</td>\n",
       "      <td>0</td>\n",
       "    </tr>\n",
       "  </tbody>\n",
       "</table>\n",
       "<p>11300 rows × 8 columns</p>\n",
       "</div>"
      ],
      "text/plain": [
       "       user_id  month subscription_type  distance  duration  minute_price  \\\n",
       "0            1      1             ultra   7027.51      42.0             6   \n",
       "1            1      4             ultra    754.16       7.0             6   \n",
       "2            1      8             ultra   6723.47      45.0             6   \n",
       "3            1     10             ultra   5809.91      32.0             6   \n",
       "4            1     11             ultra   7003.50      54.0             6   \n",
       "...        ...    ...               ...       ...       ...           ...   \n",
       "11295     1534      6              free   3409.47      25.0             8   \n",
       "11296     1534      8              free   7622.45      48.0             8   \n",
       "11297     1534      9              free   4928.17      23.0             8   \n",
       "11298     1534     11              free  13350.02      77.0             8   \n",
       "11299     1534     12              free   2371.71      16.0             8   \n",
       "\n",
       "       start_ride_price  subscription_fee  \n",
       "0                     0               199  \n",
       "1                     0               199  \n",
       "2                     0               199  \n",
       "3                     0               199  \n",
       "4                     0               199  \n",
       "...                 ...               ...  \n",
       "11295                50                 0  \n",
       "11296                50                 0  \n",
       "11297                50                 0  \n",
       "11298                50                 0  \n",
       "11299                50                 0  \n",
       "\n",
       "[11300 rows x 8 columns]"
      ]
     },
     "execution_count": 46,
     "metadata": {},
     "output_type": "execute_result"
    }
   ],
   "source": [
    "# датафрейм с агрегированными данными о поездках на основе датафрейма с объединёнными данными из шага 4 \n",
    "# суммарное расстояние, количество поездок и суммарное время для каждого пользователя за каждый месяц\n",
    "\n",
    "\n",
    "data_pivot_full = data_full.pivot_table(index = ['user_id', 'month','subscription_type'], values = ['distance', 'duration'], aggfunc ='sum' )\n",
    "data_pivot_full = data_pivot_full.reset_index()\n",
    "\n",
    "\n",
    "# каждое значение из столбца duration округляется с помощью «потолка»: \n",
    "data_pivot_full['duration'] = np.ceil(data_pivot_full['duration']) \n",
    "\n",
    "data_pivot_full = data_pivot_full.merge(data_subscriptions_go, on = 'subscription_type', how = 'left')\n",
    "data_pivot_full"
   ]
  },
  {
   "cell_type": "code",
   "execution_count": 47,
   "id": "d0784a51",
   "metadata": {},
   "outputs": [
    {
     "data": {
      "text/html": [
       "<div>\n",
       "<style scoped>\n",
       "    .dataframe tbody tr th:only-of-type {\n",
       "        vertical-align: middle;\n",
       "    }\n",
       "\n",
       "    .dataframe tbody tr th {\n",
       "        vertical-align: top;\n",
       "    }\n",
       "\n",
       "    .dataframe thead th {\n",
       "        text-align: right;\n",
       "    }\n",
       "</style>\n",
       "<table border=\"1\" class=\"dataframe\">\n",
       "  <thead>\n",
       "    <tr style=\"text-align: right;\">\n",
       "      <th></th>\n",
       "      <th>user_id</th>\n",
       "      <th>month</th>\n",
       "      <th>subscription_type</th>\n",
       "      <th>distance</th>\n",
       "      <th>duration</th>\n",
       "      <th>minute_price</th>\n",
       "      <th>start_ride_price</th>\n",
       "      <th>subscription_fee</th>\n",
       "      <th>total</th>\n",
       "    </tr>\n",
       "  </thead>\n",
       "  <tbody>\n",
       "    <tr>\n",
       "      <th>0</th>\n",
       "      <td>1</td>\n",
       "      <td>1</td>\n",
       "      <td>ultra</td>\n",
       "      <td>7027.51</td>\n",
       "      <td>42.0</td>\n",
       "      <td>6</td>\n",
       "      <td>0</td>\n",
       "      <td>199</td>\n",
       "      <td>451.0</td>\n",
       "    </tr>\n",
       "    <tr>\n",
       "      <th>1</th>\n",
       "      <td>1</td>\n",
       "      <td>4</td>\n",
       "      <td>ultra</td>\n",
       "      <td>754.16</td>\n",
       "      <td>7.0</td>\n",
       "      <td>6</td>\n",
       "      <td>0</td>\n",
       "      <td>199</td>\n",
       "      <td>241.0</td>\n",
       "    </tr>\n",
       "    <tr>\n",
       "      <th>2</th>\n",
       "      <td>1</td>\n",
       "      <td>8</td>\n",
       "      <td>ultra</td>\n",
       "      <td>6723.47</td>\n",
       "      <td>45.0</td>\n",
       "      <td>6</td>\n",
       "      <td>0</td>\n",
       "      <td>199</td>\n",
       "      <td>469.0</td>\n",
       "    </tr>\n",
       "    <tr>\n",
       "      <th>3</th>\n",
       "      <td>1</td>\n",
       "      <td>10</td>\n",
       "      <td>ultra</td>\n",
       "      <td>5809.91</td>\n",
       "      <td>32.0</td>\n",
       "      <td>6</td>\n",
       "      <td>0</td>\n",
       "      <td>199</td>\n",
       "      <td>391.0</td>\n",
       "    </tr>\n",
       "    <tr>\n",
       "      <th>4</th>\n",
       "      <td>1</td>\n",
       "      <td>11</td>\n",
       "      <td>ultra</td>\n",
       "      <td>7003.50</td>\n",
       "      <td>54.0</td>\n",
       "      <td>6</td>\n",
       "      <td>0</td>\n",
       "      <td>199</td>\n",
       "      <td>523.0</td>\n",
       "    </tr>\n",
       "    <tr>\n",
       "      <th>...</th>\n",
       "      <td>...</td>\n",
       "      <td>...</td>\n",
       "      <td>...</td>\n",
       "      <td>...</td>\n",
       "      <td>...</td>\n",
       "      <td>...</td>\n",
       "      <td>...</td>\n",
       "      <td>...</td>\n",
       "      <td>...</td>\n",
       "    </tr>\n",
       "    <tr>\n",
       "      <th>11295</th>\n",
       "      <td>1534</td>\n",
       "      <td>6</td>\n",
       "      <td>free</td>\n",
       "      <td>3409.47</td>\n",
       "      <td>25.0</td>\n",
       "      <td>8</td>\n",
       "      <td>50</td>\n",
       "      <td>0</td>\n",
       "      <td>250.0</td>\n",
       "    </tr>\n",
       "    <tr>\n",
       "      <th>11296</th>\n",
       "      <td>1534</td>\n",
       "      <td>8</td>\n",
       "      <td>free</td>\n",
       "      <td>7622.45</td>\n",
       "      <td>48.0</td>\n",
       "      <td>8</td>\n",
       "      <td>50</td>\n",
       "      <td>0</td>\n",
       "      <td>434.0</td>\n",
       "    </tr>\n",
       "    <tr>\n",
       "      <th>11297</th>\n",
       "      <td>1534</td>\n",
       "      <td>9</td>\n",
       "      <td>free</td>\n",
       "      <td>4928.17</td>\n",
       "      <td>23.0</td>\n",
       "      <td>8</td>\n",
       "      <td>50</td>\n",
       "      <td>0</td>\n",
       "      <td>234.0</td>\n",
       "    </tr>\n",
       "    <tr>\n",
       "      <th>11298</th>\n",
       "      <td>1534</td>\n",
       "      <td>11</td>\n",
       "      <td>free</td>\n",
       "      <td>13350.02</td>\n",
       "      <td>77.0</td>\n",
       "      <td>8</td>\n",
       "      <td>50</td>\n",
       "      <td>0</td>\n",
       "      <td>666.0</td>\n",
       "    </tr>\n",
       "    <tr>\n",
       "      <th>11299</th>\n",
       "      <td>1534</td>\n",
       "      <td>12</td>\n",
       "      <td>free</td>\n",
       "      <td>2371.71</td>\n",
       "      <td>16.0</td>\n",
       "      <td>8</td>\n",
       "      <td>50</td>\n",
       "      <td>0</td>\n",
       "      <td>178.0</td>\n",
       "    </tr>\n",
       "  </tbody>\n",
       "</table>\n",
       "<p>11300 rows × 9 columns</p>\n",
       "</div>"
      ],
      "text/plain": [
       "       user_id  month subscription_type  distance  duration  minute_price  \\\n",
       "0            1      1             ultra   7027.51      42.0             6   \n",
       "1            1      4             ultra    754.16       7.0             6   \n",
       "2            1      8             ultra   6723.47      45.0             6   \n",
       "3            1     10             ultra   5809.91      32.0             6   \n",
       "4            1     11             ultra   7003.50      54.0             6   \n",
       "...        ...    ...               ...       ...       ...           ...   \n",
       "11295     1534      6              free   3409.47      25.0             8   \n",
       "11296     1534      8              free   7622.45      48.0             8   \n",
       "11297     1534      9              free   4928.17      23.0             8   \n",
       "11298     1534     11              free  13350.02      77.0             8   \n",
       "11299     1534     12              free   2371.71      16.0             8   \n",
       "\n",
       "       start_ride_price  subscription_fee  total  \n",
       "0                     0               199  451.0  \n",
       "1                     0               199  241.0  \n",
       "2                     0               199  469.0  \n",
       "3                     0               199  391.0  \n",
       "4                     0               199  523.0  \n",
       "...                 ...               ...    ...  \n",
       "11295                50                 0  250.0  \n",
       "11296                50                 0  434.0  \n",
       "11297                50                 0  234.0  \n",
       "11298                50                 0  666.0  \n",
       "11299                50                 0  178.0  \n",
       "\n",
       "[11300 rows x 9 columns]"
      ]
     },
     "execution_count": 47,
     "metadata": {},
     "output_type": "execute_result"
    }
   ],
   "source": [
    "# стлб для подсчета выручки в зависимости от условий подписки\n",
    "data_pivot_full['total'] = data_pivot_full['start_ride_price']+data_pivot_full['duration']*data_pivot_full['minute_price']+data_pivot_full['subscription_fee']\n",
    "data_pivot_full\n"
   ]
  },
  {
   "cell_type": "markdown",
   "id": "41545ac0",
   "metadata": {},
   "source": [
    "### Проверка гипотез\n"
   ]
  },
  {
   "cell_type": "markdown",
   "id": "ba0d841f",
   "metadata": {},
   "source": [
    "####  Тратят ли пользователи с подпиской больше времени на поездки? \n",
    "Если да, то пользователи с подпиской могут быть «выгоднее» для компании. \n",
    "\n",
    "<a id='section51_id'></a>"
   ]
  },
  {
   "cell_type": "code",
   "execution_count": 48,
   "id": "23ea867b",
   "metadata": {},
   "outputs": [
    {
     "data": {
      "text/plain": [
       "<Axes: xlabel='user_id', ylabel='duration'>"
      ]
     },
     "execution_count": 48,
     "metadata": {},
     "output_type": "execute_result"
    },
    {
     "data": {
      "image/png": "[encoded data removed]",
      "text/plain": [
       "<Figure size 800x600 with 2 Axes>"
      ]
     },
     "metadata": {},
     "output_type": "display_data"
    },
    {
     "data": {
      "image/png": "[encoded data removed]",
      "text/plain": [
       "<Figure size 800x600 with 2 Axes>"
      ]
     },
     "metadata": {},
     "output_type": "display_data"
    }
   ],
   "source": [
    "# Тратят ли пользователи с подпиской больше времени на поездки? \n",
    "# Если да, то пользователи с подпиской могут быть «выгоднее» для компании. \n",
    "\n",
    "data_subscription.plot(x='user_id', y='duration', kind = 'hexbin', gridsize = 20, figsize = (8,6), sharex = False)\n",
    "data_without_subscription.plot(x='user_id', y='duration', kind = 'hexbin', gridsize = 20, figsize = (8,6), sharex = False)\n"
   ]
  },
  {
   "cell_type": "code",
   "execution_count": 49,
   "id": "a5946b4f",
   "metadata": {},
   "outputs": [
    {
     "name": "stdout",
     "output_type": "stream",
     "text": [
      "p-value: 4.7044680744539e-28\n",
      "Отвергаем нулевую гипотезу\n"
     ]
    }
   ],
   "source": [
    "# Гипотеза: Нулевая гипотеза: Среднее время продолжительности для пользователей с подпиской равно среднему времени пользователей без подписки.\n",
    "# Альтернативная гипотеза: Среднее время продолжительности для пользователей с подпиской больше чем среднее время пользователей без подписки \n",
    "# (правосторонняя гипотеза).\n",
    "\n",
    "\n",
    "alpha = 0.05\n",
    "first_group = data_subscription['duration']\n",
    "second_group = data_without_subscription['duration']\n",
    "results = st.ttest_ind(first_group, second_group, alternative = 'greater')\n",
    "print(f'p-value: {results.pvalue}')\n",
    "if results.pvalue < alpha:\n",
    "    print('Отвергаем нулевую гипотезу')\n",
    "else:\n",
    "    print('Нет оснований отвергнуть нулевую гипотезу')"
   ]
  },
  {
   "cell_type": "markdown",
   "id": "ee9a6901",
   "metadata": {},
   "source": [
    "\n",
    "    \n",
    "Полученное значение p-value (~1.6261032773552045e-34) меньше заданного уровня значимости, поэтому можно отвергнуть нулевую гипотезу. Есть основания говорить, что продолжительность поездок пользователей с подпиской  больше, чем без подписки."
   ]
  },
  {
   "cell_type": "markdown",
   "id": "75edb52c",
   "metadata": {},
   "source": [
    "#### Можно ли сказать, среднее расстояние, которое проезжают пользователи с подпиской за одну поездку, не превышает 3130 метров?\n",
    "<a id='section52_id'></a>"
   ]
  },
  {
   "cell_type": "code",
   "execution_count": 50,
   "id": "0e08b30f",
   "metadata": {},
   "outputs": [
    {
     "name": "stdout",
     "output_type": "stream",
     "text": [
      "p-value: 0.9195362605842414\n",
      "Нет оснований отвергнуть нулевую гипотезу\n"
     ]
    }
   ],
   "source": [
    "# Расстояние одной поездки в 3130 метров — оптимальное с точки зрения износа самоката. \n",
    "# Необходимо проверить, что среднее расстояние, которое проезжают пользователи с подпиской за одну поездку, не превышает 3130 метров?\n",
    "\n",
    "# Нулевая гипотеза: среднее расстояние, которое проезжают пользователи с подпиской за одну поездку равно 3130 метров\n",
    "# Альтернативная гипотеза: среднее расстояние, которое проезжают пользователи с подпиской за одну поездку больше 3130 метров\n",
    "alpha = 0.05\n",
    "first_group = data_subscription['distance']\n",
    "\n",
    "results = st.ttest_1samp(first_group, 3130, alternative = 'greater')\n",
    "print(f'p-value: {results.pvalue}')\n",
    "if results.pvalue < alpha:\n",
    "    print('Отвергаем нулевую гипотезу')\n",
    "else:\n",
    "    print('Нет оснований отвергнуть нулевую гипотезу')"
   ]
  },
  {
   "cell_type": "markdown",
   "id": "ff3c7b18",
   "metadata": {},
   "source": [
    "\n",
    "    \n",
    "Полученное значение p-value (~0.9224525735508029) показывает высокую вероятность, что среднее расстояние за одну поездку составит 3130, поэтому нет оснований отвергнуть нулевую гипотезу. \n",
    "Есть основания говорить, что продолжительность поездок пользователей с подпиской  не превышает 3130."
   ]
  },
  {
   "cell_type": "markdown",
   "id": "0dd0bbfb",
   "metadata": {},
   "source": [
    "#### Гипотеза, будет ли помесячная выручка от пользователей с подпиской по месяцам выше, чем выручка от пользователей без подписки.\n",
    "<a id='section53_id'></a>"
   ]
  },
  {
   "cell_type": "code",
   "execution_count": 51,
   "id": "eb0aeee2",
   "metadata": {},
   "outputs": [
    {
     "name": "stdout",
     "output_type": "stream",
     "text": [
      "p-value: 3.420801680310382e-191\n",
      "Отвергаем нулевую гипотезу\n"
     ]
    }
   ],
   "source": [
    "#Гипотеза, будет ли помесячная выручка от пользователей с подпиской по месяцам выше, чем выручка от пользователей без подписки.\n",
    "# Нулевая гипотеза: средняя выручка подписчиков равна  средней выручки без подписки\n",
    "# Альтернаиивная гипотеза: средняя выручка подписчиков больше  средней выручки без подписки\n",
    "alpha = 0.05\n",
    "first_group = data_pivot_full.query('subscription_type == \"ultra\"')['total']\n",
    "second_group = data_pivot_full.query('subscription_type != \"ultra\"')['total']\n",
    "results = st.ttest_ind(first_group, second_group, alternative = 'greater')\n",
    "print(f'p-value: {results.pvalue}')\n",
    "if results.pvalue < alpha:\n",
    "    print('Отвергаем нулевую гипотезу')\n",
    "else:\n",
    "    print('Нет оснований отвергнуть нулевую гипотезу')"
   ]
  },
  {
   "cell_type": "markdown",
   "id": "9ae1e54c",
   "metadata": {},
   "source": [
    "\n",
    "    \n",
    "Полученное значение p-value (~1.4119059629005066e-185) меньше заданного уровня значимости, поэтому можно отвергнуть нулевую гипотезу. Есть основания говорить, что выручка пользователей с подпиской  больше, чем без подписки."
   ]
  },
  {
   "cell_type": "markdown",
   "id": "d83f6c06",
   "metadata": {},
   "source": [
    "#### Какой тест необходимо применять для проверки данных о количестве обращений до обновления сервера и после?\n",
    "<a id='section54_id'></a>"
   ]
  },
  {
   "cell_type": "code",
   "execution_count": 52,
   "id": "26f69c5d",
   "metadata": {},
   "outputs": [],
   "source": [
    "#ситуацию: техническая команда сервиса обновила сервера, с которыми взаимодействует мобильное приложение. \n",
    "# Она надеется, что из-за этого количество обращений в техподдержку значимо снизилось. \n",
    "# Некоторый файл содержит для каждого пользователя данные о количестве обращений до обновления и после него. \n",
    "# Какой тест вам понадобился бы для проверки этой гипотезы?"
   ]
  },
  {
   "cell_type": "markdown",
   "id": "8a7ef3d5",
   "metadata": {},
   "source": [
    "\n",
    "    Для проверки данных о количестве обращений до обновления сервера и после необходимо использовать тест:\n",
    "    \n",
    "    scipy.stats.ttest_rel\n",
    "    "
   ]
  },
  {
   "cell_type": "markdown",
   "id": "846e70ab",
   "metadata": {},
   "source": [
    "<div class=\"alert alert-info\" style=\"border-radius: 10px; box-shadow: 2px 2px 2px; border: 1px solid; padding: 10px \"> \n",
    "<b></b> \n",
    "     \n",
    "Нулевая гипотеза: ср.кол-во обращений до обновления равно ср. кол-ву обращений после обновления.\n",
    "Альтернативная гипотеза: ср.кол-во обращений после обновления  меньше ср. кол-ва обращений до обновления\n",
    "    \n",
    "Односторонняя, less"
   ]
  },
  {
   "cell_type": "markdown",
   "id": "61213c5e",
   "metadata": {},
   "source": [
    "### Шаг 7. Распределения"
   ]
  },
  {
   "cell_type": "markdown",
   "id": "2a70a57d",
   "metadata": {},
   "source": [
    "#### какое минимальное количество промокодов нужно разослать, чтобы вероятность не выполнить план была примерно 5%"
   ]
  },
  {
   "cell_type": "markdown",
   "id": "e4e4b9ce",
   "metadata": {},
   "source": [
    "<a id='section6_id'></a>"
   ]
  },
  {
   "cell_type": "code",
   "execution_count": 53,
   "id": "95cd1d51",
   "metadata": {},
   "outputs": [
    {
     "name": "stdout",
     "output_type": "stream",
     "text": [
      "0.950831019027257\n"
     ]
    }
   ],
   "source": [
    "# акцию с раздачей промокодов на один бесплатный месяц подписки, в рамках которой как минимум 100 существующих клиентов \n",
    "# должны продлить эту подписку. То есть по завершении периода действия подписки пользователь может либо отказаться от неё, \n",
    "# либо продлить, совершив соответствующий платёж. \n",
    "\n",
    "#акция уже проводилась ранее, после бесплатного пробного периода подписку продлевают 10% пользователей\n",
    "#какое минимальное количество промокодов нужно разослать, чтобы вероятность не выполнить план была примерно 5%, т е вероятность достичь 100 подписок равно 95%\n",
    "\n",
    "#биномиальное распределение: раздача промокодов. Успех - продление подписки (вероятность успеха 10%)\n",
    "# \n",
    "\n",
    "from math import sqrt\n",
    "from scipy import stats as st\n",
    "\n",
    "plan = 100\n",
    "n=855 # величина n подобрана экспериментально\n",
    "p = 0.1\n",
    "\n",
    "# зададим мат.ожидание и ст.отклонение нормального распределения равными\n",
    "# мат.ожиданию и ст.отклонению биномиального распределения\n",
    "mu = n * p\n",
    "sigma = sqrt(n * p * (1 - p))\n",
    "\n",
    "# задаём нормальное распределение\n",
    "distr = st.norm(mu, sigma) \n",
    "\n",
    "# считаем вероятность хвоста слева от 100\n",
    "result = distr.cdf(100)\n",
    "print(result)\n",
    "\n"
   ]
  },
  {
   "cell_type": "code",
   "execution_count": 54,
   "id": "6f58e63b",
   "metadata": {},
   "outputs": [
    {
     "data": {
      "image/png": "[encoded data removed]",
      "text/plain": [
       "<Figure size 640x480 with 1 Axes>"
      ]
     },
     "metadata": {},
     "output_type": "display_data"
    },
    {
     "name": "stdout",
     "output_type": "stream",
     "text": [
      "Условие выполняется\n"
     ]
    }
   ],
   "source": [
    "#проверка аппроксимации:\n",
    "#если промежуток от мат.ожидания биномиального распределения плюс-минус три его стандартных отклонения выходит за пределы \n",
    "# [0,n], график биномиального распределения будет скошенным. \n",
    "# Значит, симметричная кривая нормального распределения не даст хорошей аппроксимации.\n",
    "\n",
    "# зададим мат.ожидание и ст.отклонение нормального распределения равными\n",
    "# мат.ожиданию и ст.отклонению биномиального распределения\n",
    "\n",
    "\n",
    "import matplotlib.pyplot as plt\n",
    "from scipy.stats import binom, norm\n",
    " \n",
    "# зададим функцию, которая выдаёт <num> чисел,\n",
    "# равномерно распределённых от <start> до <stop>\n",
    "# (понадобится для визуализации нормального распределения)\n",
    "def linspace(start, stop, num):\n",
    "    step = (stop - start) / (num - 1)\n",
    "    result = []\n",
    "    for i in range(num):\n",
    "        result.append(start + step * i)\n",
    "    return result\n",
    " \n",
    "# задаём параметры биномиального распределения\n",
    "n = 855\n",
    "p = 0.10\n",
    "\n",
    "# границы промежутка, в котором будем строить аппроксимацию -\n",
    "# от n*p минус 4 ст.отклонения бином.распределения\n",
    "# до n*p плюс 4 ст.отклонения бином.распределения\n",
    "# (там, где вероятности значений почти не равны нулю)\n",
    "left = int(n * p - 4 * sqrt(n * p * (1 - p)))\n",
    "right = int(n * p + 4 * sqrt(n * p * (1 - p)))\n",
    " \n",
    "# зададим набор значений биномиальной величины на выбранном промежутке:\n",
    "# все неотрицательные целые числа от left до right\n",
    "x = list(range(max(0, left), right))\n",
    "# рисуем график биномиального распределения\n",
    "ax = plt.subplot()\n",
    "# используем синие о-образные маркеры и размер маркера 5\n",
    "ax.plot(x, binom.pmf(x, n, p), 'bo', ms=5,\n",
    "\t      label='вероятности биномиального распределения')\n",
    "\n",
    "# зададим мат.ожидание и ст.отклонение нормального распределения равными\n",
    "# мат.ожиданию и ст.отклонению биномиального распределения\n",
    "mu = n * p\n",
    "sigma = sqrt(n * p * (1 - p))\n",
    " \n",
    "# рисуем график нормального распределения:\n",
    "# получим список из 100 чисел от left до right\n",
    "x = linspace(left, right, 100)\n",
    "# используем красную линию ширины 3 и прозрачности 0.3\n",
    "ax.plot(x, norm.pdf(x, mu, sigma), 'r-', lw=3, alpha=0.3, label='плотность вероятности нормального распределения')\n",
    " \n",
    "# зададим подписи по оси x в пределах ± 3 ст.отклонений от мат.ожидания\n",
    "# (последний аргумент в методе range - интервал между подписями)\n",
    "x_ticks = list(range(int(mu - 3 * sigma), int(mu + 3 * sigma), 1))\n",
    "ax.set_xticks(x_ticks)\n",
    "\n",
    "# настраиваем оптимальное расположение легенды и выводим график\n",
    "ax.legend(loc='best')\n",
    "plt.show()\n",
    "\n",
    "# выводим, выполняется ли наше условие аппроксимации:\n",
    "# лежит ли mu ± 3 sigma в промежутке от 0 до n:\n",
    "if (mu - (3 * sigma) >= 0) and ((mu + (3 * sigma) <= n)):\n",
    "    print('Условие выполняется')\n",
    "else:\n",
    "    print('Условие не выполняется')"
   ]
  },
  {
   "cell_type": "markdown",
   "id": "764f4683",
   "metadata": {},
   "source": [
    "\n",
    "    Экспериментально подобрано число промокодов для раздачи (855), при котором как минимум 100 существующих клиентов должны продлить эту подписку с вероятностью 95%."
   ]
  },
  {
   "cell_type": "markdown",
   "id": "ff1c3c52",
   "metadata": {},
   "source": [
    "#### вероятность того, что уведомление откроют не более 399,5 тыс. пользователей из 1 млн уведомлений\n",
    "<a id='section7_id'></a>"
   ]
  },
  {
   "cell_type": "code",
   "execution_count": 55,
   "id": "84497d2f",
   "metadata": {},
   "outputs": [
    {
     "data": {
      "image/png": "[encoded data removed]",
      "text/plain": [
       "<Figure size 640x480 with 1 Axes>"
      ]
     },
     "metadata": {},
     "output_type": "display_data"
    },
    {
     "name": "stdout",
     "output_type": "stream",
     "text": [
      "Условие выполняется\n",
      "Вероятность, что уведомление откроют не более 399,5 тыс. пользователей: 0.15371708296369768\n"
     ]
    }
   ],
   "source": [
    "# Отдел маркетинга рассылает клиентам push-уведомления в мобильном приложении. Клиенты могут открыть его или не открывать. \n",
    "# Известно, что уведомления открывают около 40 % получивших клиентов. Отдел планирует разослать 1 млн уведомлений. \n",
    "# С помощью аппроксимации необходимо построить примерный график распределения и оценить вероятность того, \n",
    "# что уведомление откроют не более 399,5 тыс. пользователей.\n",
    "\n",
    "# функциz, которая выдаёт <num> чисел описана выше,\n",
    "\n",
    " \n",
    "# задаём параметры биномиального распределения\n",
    "n = 1000000\n",
    "p = 0.40\n",
    "\n",
    "# границы промежутка, в котором будем строить аппроксимацию -\n",
    "# от n*p минус 4 ст.отклонения бином.распределения\n",
    "# до n*p плюс 4 ст.отклонения бином.распределения\n",
    "# (там, где вероятности значений почти не равны нулю)\n",
    "left = int(n * p - 4 * sqrt(n * p * (1 - p)))\n",
    "right = int(n * p + 4 * sqrt(n * p * (1 - p)))\n",
    " \n",
    "# зададим набор значений биномиальной величины на выбранном промежутке:\n",
    "# все неотрицательные целые числа от left до right\n",
    "x = list(range(max(0, left), right))\n",
    "# рисуем график биномиального распределения\n",
    "ax = plt.subplot()\n",
    "# используем синие о-образные маркеры и размер маркера 5\n",
    "ax.plot(x, binom.pmf(x, n, p), 'bo', ms=5,\n",
    "\t      label='вероятности биномиального распределения')\n",
    "\n",
    "# зададим мат.ожидание и ст.отклонение нормального распределения равными\n",
    "# мат.ожиданию и ст.отклонению биномиального распределения\n",
    "mu = n * p\n",
    "sigma = sqrt(n * p * (1 - p))\n",
    " \n",
    "# рисуем график нормального распределения:\n",
    "# получим список из 100 чисел от left до right\n",
    "x = linspace(left, right, 100)\n",
    "# используем красную линию ширины 3 и прозрачности 0.3\n",
    "ax.plot(x, norm.pdf(x, mu, sigma), 'r-', lw=3, alpha=0.3, label='плотность вероятности нормального распределения')\n",
    " \n",
    "# зададим подписи по оси x в пределах ± 3 ст.отклонений от мат.ожидания\n",
    "# (последний аргумент в методе range - интервал между подписями)\n",
    "x_ticks = list(range(int(mu - 3 * sigma), int(mu + 3 * sigma), 1))\n",
    "ax.set_xticks(x_ticks)\n",
    "\n",
    "# настраиваем оптимальное расположение легенды и выводим график\n",
    "ax.legend(loc='best')\n",
    "plt.show()\n",
    "\n",
    "# выводим, выполняется ли наше условие аппроксимации:\n",
    "# лежит ли mu ± 3 sigma в промежутке от 0 до n:\n",
    "if (mu - (3 * sigma) >= 0) and ((mu + (3 * sigma) <= n)):\n",
    "    print('Условие выполняется')\n",
    "else:\n",
    "    print('Условие не выполняется')\n",
    "    \n",
    "\n",
    "# задаём нормальное распределение\n",
    "distr = st.norm(mu, sigma) \n",
    "\n",
    "# считаем вероятность хвоста слева от 399500\n",
    "result = distr.cdf(399500)\n",
    "print(f'Вероятность, что уведомление откроют не более 399,5 тыс. пользователей: {result}')\n",
    "    "
   ]
  },
  {
   "cell_type": "markdown",
   "id": "708ea74d",
   "metadata": {},
   "source": [
    "\n",
    "    Вероятность, что уведомление откроют не более 399,5 тыс. пользователей составляет 15%"
   ]
  },
  {
   "cell_type": "markdown",
   "id": "7f56f05a",
   "metadata": {},
   "source": [
    "# Выводы:\n",
    "Проведен анализ данных сервиса аренды самокатов GoFast: проверка гипотез для бизнеса относительно пользователей с подпиской и без.\n",
    "\n",
    "\n",
    "1. ПРоведена предобработка данных, выявлены дубликаты (31) \n",
    "\n",
    "2. Исследовательский анализ данных: \n",
    "\n",
    "   Сервис GoFast представлен в 8 городах - \n",
    "   Екатеринбург, Краснодар, Москва, Омск, Пятигорск, Ростов-на-Дону, Сочи, Тюмень.  \n",
    "   Распределение пользователей по городам примерно одинаковое, наибольшее количество в Пятигорске - 206, наименьшее в Москве - 172;\n",
    "\n",
    "   Пользователи с подпиской составляют порядка 46%, без подписки - 54%, \n",
    "   \n",
    "   основная доля пользователей в возрасте от 22 до 28 лет (средний возраст 25 лет); \n",
    "   \n",
    "   расстояние, которое пользователь преодолел за одну поездку:Чаще всего пользователи совершали поездку в 3-3,5 км, но есть и более дальние поездки - до 7 км, и очень короткие - 100-200 метров; \n",
    "   \n",
    "   продолжительность поездок: Чаще всего время поездки составляло 15-20 минут, отдельные поездки - до 40 минут.\n",
    "    \n",
    "3. В целях анализа данных осуществлено объединение данных о пользователях, поездках и подписках, сделан срез пользователей с подписой и без нее.\n",
    "    \n",
    "4. Добавлен расчет выручки для каждого пользователя за месяц.\n",
    "    \n",
    "5. ПРоведена проверка гипотез:\n",
    "\n",
    "        5.1. тратят ли пользователи с подпиской больше времени на поездки? - Есть основания говорить, что продолжительность поездок пользователей с подпиской больше, чем без подписки.\n",
    "        \n",
    "        \n",
    "        5.2. Можно ли сказать, что среднее расстояние, которое проезжают пользователи с подпиской за одну поездку, не превышает \n",
    "        3130 метров? - Есть основания говорить, что продолжительность поездок пользователей с подпиской не превышает 3130.\n",
    "        \n",
    "        5.3. будет ли помесячная выручка от пользователей с подпиской по месяцам выше, чем выручка от пользователей без подписки. - Есть основания говорить, что выручка пользователей с подпиской  больше, чем без подписки.\n",
    "        \n",
    "        5.4. повлияет ли смена серверов на количество обращений в техподдержку? - Для проверки данных о количестве обращений до обновления сервера и после необходимо использовать тест scipy.stats.ttest_rel\n",
    "    \n",
    "6. Для акции по промокодам: какое минимальное количество промокодов нужно разослать, чтобы вероятность не выполнить план была примерно 5% - 855 промокодов.\n",
    "    \n",
    "7. push-уведомления в мобильном приложении: вероятность того, что уведомление откроют не более \n",
    "399,5 тыс. пользователей при отправке 1 млн уведомлений, составляет 15%\n"
   ]
  },
  {
   "cell_type": "markdown",
   "id": "6f7bac75",
   "metadata": {},
   "source": [
    "<div class=\"alert alert-info\" style=\"border-radius: 10px; box-shadow: 2px 2px 2px; border: 1px solid; padding: 10px \"> \n",
    "<b></b> \n",
    "     \n",
    "Рекламному отделу стоит предложить диверсифицировать условия оплаты в зависимости от времени поездки, чтобы увеличить количество коротких поездок.\n",
    "Или провести акцию по промокодам \"Первые 3 минуты поездки бесплатно\"\n",
    "    "
   ]
  }
 ],
 "metadata": {
  "ExecuteTimeLog": [
   {
    "duration": 52,
    "start_time": "2024-05-13T02:50:18.254Z"
   },
   {
    "duration": 6,
    "start_time": "2024-05-13T02:50:30.259Z"
   },
   {
    "duration": 432,
    "start_time": "2024-05-13T02:50:40.270Z"
   },
   {
    "duration": 87,
    "start_time": "2024-05-13T02:50:42.707Z"
   },
   {
    "duration": 44,
    "start_time": "2024-05-13T02:51:02.991Z"
   },
   {
    "duration": 42,
    "start_time": "2024-05-13T02:51:33.537Z"
   },
   {
    "duration": 42,
    "start_time": "2024-05-13T02:51:42.918Z"
   },
   {
    "duration": 839,
    "start_time": "2024-05-13T02:51:54.076Z"
   },
   {
    "duration": 3,
    "start_time": "2024-05-13T02:52:46.339Z"
   },
   {
    "duration": 44,
    "start_time": "2024-05-13T02:52:48.499Z"
   },
   {
    "duration": 41,
    "start_time": "2024-05-13T02:53:45.515Z"
   },
   {
    "duration": 36,
    "start_time": "2024-05-13T02:53:50.330Z"
   },
   {
    "duration": 98,
    "start_time": "2024-05-13T02:54:44.278Z"
   },
   {
    "duration": 77,
    "start_time": "2024-05-13T02:56:20.236Z"
   },
   {
    "duration": 37,
    "start_time": "2024-05-13T02:56:42.585Z"
   },
   {
    "duration": 60,
    "start_time": "2024-05-13T02:57:36.654Z"
   },
   {
    "duration": 41,
    "start_time": "2024-05-13T02:57:57.966Z"
   },
   {
    "duration": 9,
    "start_time": "2024-05-13T02:59:09.852Z"
   },
   {
    "duration": 8,
    "start_time": "2024-05-13T03:00:04.118Z"
   },
   {
    "duration": 11,
    "start_time": "2024-05-13T03:00:15.682Z"
   },
   {
    "duration": 16,
    "start_time": "2024-05-13T03:03:36.998Z"
   },
   {
    "duration": 422,
    "start_time": "2024-05-13T11:24:01.785Z"
   },
   {
    "duration": 88,
    "start_time": "2024-05-13T11:24:02.208Z"
   },
   {
    "duration": 88,
    "start_time": "2024-05-13T11:24:02.297Z"
   },
   {
    "duration": 68,
    "start_time": "2024-05-13T11:24:02.386Z"
   },
   {
    "duration": 12,
    "start_time": "2024-05-13T11:24:02.456Z"
   },
   {
    "duration": 10,
    "start_time": "2024-05-13T11:29:03.542Z"
   },
   {
    "duration": 8,
    "start_time": "2024-05-13T11:29:32.275Z"
   },
   {
    "duration": 10,
    "start_time": "2024-05-13T11:33:07.469Z"
   },
   {
    "duration": 9,
    "start_time": "2024-05-13T11:33:42.972Z"
   },
   {
    "duration": 9,
    "start_time": "2024-05-13T11:36:30.247Z"
   },
   {
    "duration": 14,
    "start_time": "2024-05-13T11:39:50.261Z"
   },
   {
    "duration": 11,
    "start_time": "2024-05-13T11:41:48.038Z"
   },
   {
    "duration": 23,
    "start_time": "2024-05-13T11:45:00.826Z"
   },
   {
    "duration": 764,
    "start_time": "2024-05-13T11:52:41.619Z"
   },
   {
    "duration": 2514,
    "start_time": "2024-05-13T11:53:03.244Z"
   },
   {
    "duration": 2577,
    "start_time": "2024-05-13T11:53:50.370Z"
   },
   {
    "duration": 6,
    "start_time": "2024-05-13T12:22:15.883Z"
   },
   {
    "duration": 43,
    "start_time": "2024-05-14T01:56:42.463Z"
   },
   {
    "duration": 348,
    "start_time": "2024-05-14T01:56:54.828Z"
   },
   {
    "duration": 89,
    "start_time": "2024-05-14T01:56:55.177Z"
   },
   {
    "duration": 89,
    "start_time": "2024-05-14T01:56:55.268Z"
   },
   {
    "duration": 70,
    "start_time": "2024-05-14T01:56:55.359Z"
   },
   {
    "duration": 11,
    "start_time": "2024-05-14T01:56:55.430Z"
   },
   {
    "duration": 9,
    "start_time": "2024-05-14T01:56:55.442Z"
   },
   {
    "duration": 6,
    "start_time": "2024-05-14T01:56:55.453Z"
   },
   {
    "duration": 18,
    "start_time": "2024-05-14T01:56:55.460Z"
   },
   {
    "duration": 9,
    "start_time": "2024-05-14T01:56:57.803Z"
   },
   {
    "duration": 11,
    "start_time": "2024-05-14T01:57:14.851Z"
   },
   {
    "duration": 16,
    "start_time": "2024-05-14T02:00:34.259Z"
   },
   {
    "duration": 13,
    "start_time": "2024-05-14T02:01:14.069Z"
   },
   {
    "duration": 3,
    "start_time": "2024-05-14T02:01:41.749Z"
   },
   {
    "duration": 43,
    "start_time": "2024-05-14T02:01:41.754Z"
   },
   {
    "duration": 40,
    "start_time": "2024-05-14T02:01:41.798Z"
   },
   {
    "duration": 22,
    "start_time": "2024-05-14T02:01:41.840Z"
   },
   {
    "duration": 11,
    "start_time": "2024-05-14T02:01:41.864Z"
   },
   {
    "duration": 17,
    "start_time": "2024-05-14T02:01:41.876Z"
   },
   {
    "duration": 7,
    "start_time": "2024-05-14T02:01:41.894Z"
   },
   {
    "duration": 17,
    "start_time": "2024-05-14T02:01:41.902Z"
   },
   {
    "duration": 13,
    "start_time": "2024-05-14T02:01:44.071Z"
   },
   {
    "duration": 12,
    "start_time": "2024-05-14T02:04:32.797Z"
   },
   {
    "duration": 982,
    "start_time": "2024-05-14T02:05:51.814Z"
   },
   {
    "duration": 14,
    "start_time": "2024-05-14T02:06:21.650Z"
   },
   {
    "duration": 219,
    "start_time": "2024-05-14T02:07:16.154Z"
   },
   {
    "duration": 43,
    "start_time": "2024-05-14T02:10:05.856Z"
   },
   {
    "duration": 139,
    "start_time": "2024-05-14T02:10:34.708Z"
   },
   {
    "duration": 134,
    "start_time": "2024-05-14T02:11:25.919Z"
   },
   {
    "duration": 10,
    "start_time": "2024-05-14T02:12:39.377Z"
   },
   {
    "duration": 10,
    "start_time": "2024-05-14T02:13:08.451Z"
   },
   {
    "duration": 11,
    "start_time": "2024-05-14T02:16:27.088Z"
   },
   {
    "duration": 11,
    "start_time": "2024-05-14T02:16:32.447Z"
   },
   {
    "duration": 13,
    "start_time": "2024-05-14T02:17:09.785Z"
   },
   {
    "duration": 13,
    "start_time": "2024-05-14T02:20:25.395Z"
   },
   {
    "duration": 184,
    "start_time": "2024-05-14T02:25:31.847Z"
   },
   {
    "duration": 15,
    "start_time": "2024-05-14T02:26:38.294Z"
   },
   {
    "duration": 1492,
    "start_time": "2024-05-14T02:28:41.079Z"
   },
   {
    "duration": 192,
    "start_time": "2024-05-14T02:29:59.198Z"
   },
   {
    "duration": 103,
    "start_time": "2024-05-14T02:30:21.983Z"
   },
   {
    "duration": 147,
    "start_time": "2024-05-14T02:30:40.878Z"
   },
   {
    "duration": 142,
    "start_time": "2024-05-14T02:32:41.608Z"
   },
   {
    "duration": 206,
    "start_time": "2024-05-14T02:32:51.925Z"
   },
   {
    "duration": 283,
    "start_time": "2024-05-14T02:33:18.387Z"
   },
   {
    "duration": 317,
    "start_time": "2024-05-14T02:33:28.885Z"
   },
   {
    "duration": 101,
    "start_time": "2024-05-14T02:34:15.502Z"
   },
   {
    "duration": 346,
    "start_time": "2024-05-14T02:35:08.720Z"
   },
   {
    "duration": 225,
    "start_time": "2024-05-14T02:35:20.679Z"
   },
   {
    "duration": 47,
    "start_time": "2024-05-14T02:39:51.650Z"
   },
   {
    "duration": 210,
    "start_time": "2024-05-14T02:39:59.015Z"
   },
   {
    "duration": 270,
    "start_time": "2024-05-14T02:40:13.953Z"
   },
   {
    "duration": 366,
    "start_time": "2024-05-14T02:43:40.737Z"
   },
   {
    "duration": 184,
    "start_time": "2024-05-14T02:47:43.631Z"
   },
   {
    "duration": 425,
    "start_time": "2024-05-14T02:48:09.239Z"
   },
   {
    "duration": 431,
    "start_time": "2024-05-14T15:34:33.170Z"
   },
   {
    "duration": 127,
    "start_time": "2024-05-14T15:34:33.603Z"
   },
   {
    "duration": 144,
    "start_time": "2024-05-14T15:34:33.732Z"
   },
   {
    "duration": 76,
    "start_time": "2024-05-14T15:34:33.878Z"
   },
   {
    "duration": 13,
    "start_time": "2024-05-14T15:34:33.955Z"
   },
   {
    "duration": 13,
    "start_time": "2024-05-14T15:34:33.970Z"
   },
   {
    "duration": 11,
    "start_time": "2024-05-14T15:34:33.985Z"
   },
   {
    "duration": 35,
    "start_time": "2024-05-14T15:34:33.997Z"
   },
   {
    "duration": 608,
    "start_time": "2024-05-14T15:34:34.034Z"
   },
   {
    "duration": 17,
    "start_time": "2024-05-14T15:34:34.645Z"
   },
   {
    "duration": 395,
    "start_time": "2024-05-14T15:34:34.663Z"
   },
   {
    "duration": 502,
    "start_time": "2024-05-14T15:34:35.060Z"
   },
   {
    "duration": 471,
    "start_time": "2024-05-14T15:34:35.564Z"
   },
   {
    "duration": 18,
    "start_time": "2024-05-14T15:41:17.819Z"
   },
   {
    "duration": 73,
    "start_time": "2024-05-14T15:43:52.783Z"
   },
   {
    "duration": 28,
    "start_time": "2024-05-14T15:44:14.160Z"
   },
   {
    "duration": 27,
    "start_time": "2024-05-14T15:44:48.436Z"
   },
   {
    "duration": 14,
    "start_time": "2024-05-14T15:45:46.718Z"
   },
   {
    "duration": 26,
    "start_time": "2024-05-14T15:46:00.066Z"
   },
   {
    "duration": 17,
    "start_time": "2024-05-14T15:49:09.237Z"
   },
   {
    "duration": 14,
    "start_time": "2024-05-14T15:49:16.090Z"
   },
   {
    "duration": 14,
    "start_time": "2024-05-14T15:50:07.022Z"
   },
   {
    "duration": 23,
    "start_time": "2024-05-14T15:55:10.621Z"
   },
   {
    "duration": 25,
    "start_time": "2024-05-14T15:57:44.689Z"
   },
   {
    "duration": 27,
    "start_time": "2024-05-14T16:28:00.834Z"
   },
   {
    "duration": 16,
    "start_time": "2024-05-14T16:28:28.894Z"
   },
   {
    "duration": 15,
    "start_time": "2024-05-14T16:28:45.558Z"
   },
   {
    "duration": 25,
    "start_time": "2024-05-14T16:30:34.241Z"
   },
   {
    "duration": 25,
    "start_time": "2024-05-14T16:35:23.778Z"
   },
   {
    "duration": 17,
    "start_time": "2024-05-14T16:36:23.352Z"
   },
   {
    "duration": 15,
    "start_time": "2024-05-14T16:36:25.648Z"
   },
   {
    "duration": 14,
    "start_time": "2024-05-14T16:36:28.901Z"
   },
   {
    "duration": 35,
    "start_time": "2024-05-14T16:36:58.997Z"
   },
   {
    "duration": 27,
    "start_time": "2024-05-14T16:37:18.713Z"
   },
   {
    "duration": 31,
    "start_time": "2024-05-14T16:37:40.403Z"
   },
   {
    "duration": 24,
    "start_time": "2024-05-14T16:39:24.542Z"
   },
   {
    "duration": 228,
    "start_time": "2024-05-14T16:44:22.637Z"
   },
   {
    "duration": 441,
    "start_time": "2024-05-14T16:44:52.497Z"
   },
   {
    "duration": 396,
    "start_time": "2024-05-14T16:46:26.889Z"
   },
   {
    "duration": 437,
    "start_time": "2024-05-14T16:46:56.340Z"
   },
   {
    "duration": 498,
    "start_time": "2024-05-14T17:19:12.058Z"
   },
   {
    "duration": 6,
    "start_time": "2024-05-14T17:25:09.922Z"
   },
   {
    "duration": 6,
    "start_time": "2024-05-14T17:33:27.658Z"
   },
   {
    "duration": 5,
    "start_time": "2024-05-14T17:36:00.369Z"
   },
   {
    "duration": 5,
    "start_time": "2024-05-14T17:36:54.254Z"
   },
   {
    "duration": 13,
    "start_time": "2024-05-14T17:45:52.591Z"
   },
   {
    "duration": 9,
    "start_time": "2024-05-14T17:48:43.133Z"
   },
   {
    "duration": 411,
    "start_time": "2024-05-15T02:41:40.852Z"
   },
   {
    "duration": 104,
    "start_time": "2024-05-15T02:41:41.264Z"
   },
   {
    "duration": 108,
    "start_time": "2024-05-15T02:41:41.370Z"
   },
   {
    "duration": 75,
    "start_time": "2024-05-15T02:41:41.480Z"
   },
   {
    "duration": 16,
    "start_time": "2024-05-15T02:41:41.557Z"
   },
   {
    "duration": 29,
    "start_time": "2024-05-15T02:41:41.575Z"
   },
   {
    "duration": 15,
    "start_time": "2024-05-15T02:41:41.606Z"
   },
   {
    "duration": 28,
    "start_time": "2024-05-15T02:41:41.623Z"
   },
   {
    "duration": 722,
    "start_time": "2024-05-15T02:41:41.653Z"
   },
   {
    "duration": 28,
    "start_time": "2024-05-15T02:41:42.385Z"
   },
   {
    "duration": 324,
    "start_time": "2024-05-15T02:41:42.414Z"
   },
   {
    "duration": 619,
    "start_time": "2024-05-15T02:41:42.740Z"
   },
   {
    "duration": 556,
    "start_time": "2024-05-15T02:41:43.361Z"
   },
   {
    "duration": 19,
    "start_time": "2024-05-15T02:41:43.919Z"
   },
   {
    "duration": 19,
    "start_time": "2024-05-15T02:41:43.940Z"
   },
   {
    "duration": 51,
    "start_time": "2024-05-15T02:41:43.960Z"
   },
   {
    "duration": 35,
    "start_time": "2024-05-15T02:41:44.013Z"
   },
   {
    "duration": 17,
    "start_time": "2024-05-15T02:41:44.050Z"
   },
   {
    "duration": 537,
    "start_time": "2024-05-15T02:41:44.069Z"
   },
   {
    "duration": 440,
    "start_time": "2024-05-15T02:41:44.608Z"
   },
   {
    "duration": 6,
    "start_time": "2024-05-15T02:41:45.049Z"
   },
   {
    "duration": 53,
    "start_time": "2024-05-15T02:41:45.057Z"
   },
   {
    "duration": 5,
    "start_time": "2024-05-15T02:56:37.115Z"
   },
   {
    "duration": 8,
    "start_time": "2024-05-15T02:56:52.031Z"
   },
   {
    "duration": 5,
    "start_time": "2024-05-15T02:57:20.120Z"
   },
   {
    "duration": 9,
    "start_time": "2024-05-15T02:57:33.401Z"
   },
   {
    "duration": 3,
    "start_time": "2024-05-15T02:59:13.156Z"
   },
   {
    "duration": 64,
    "start_time": "2024-05-15T02:59:13.161Z"
   },
   {
    "duration": 44,
    "start_time": "2024-05-15T02:59:13.226Z"
   },
   {
    "duration": 37,
    "start_time": "2024-05-15T02:59:13.272Z"
   },
   {
    "duration": 14,
    "start_time": "2024-05-15T02:59:13.313Z"
   },
   {
    "duration": 14,
    "start_time": "2024-05-15T02:59:13.328Z"
   },
   {
    "duration": 10,
    "start_time": "2024-05-15T02:59:13.343Z"
   },
   {
    "duration": 50,
    "start_time": "2024-05-15T02:59:13.355Z"
   },
   {
    "duration": 304,
    "start_time": "2024-05-15T02:59:13.406Z"
   },
   {
    "duration": 26,
    "start_time": "2024-05-15T02:59:13.712Z"
   },
   {
    "duration": 326,
    "start_time": "2024-05-15T02:59:13.740Z"
   },
   {
    "duration": 543,
    "start_time": "2024-05-15T02:59:14.068Z"
   },
   {
    "duration": 546,
    "start_time": "2024-05-15T02:59:14.614Z"
   },
   {
    "duration": 33,
    "start_time": "2024-05-15T02:59:15.162Z"
   },
   {
    "duration": 23,
    "start_time": "2024-05-15T02:59:15.201Z"
   },
   {
    "duration": 28,
    "start_time": "2024-05-15T02:59:15.225Z"
   },
   {
    "duration": 70,
    "start_time": "2024-05-15T02:59:15.254Z"
   },
   {
    "duration": 18,
    "start_time": "2024-05-15T02:59:15.326Z"
   },
   {
    "duration": 512,
    "start_time": "2024-05-15T02:59:15.345Z"
   },
   {
    "duration": 6,
    "start_time": "2024-05-15T02:59:15.859Z"
   },
   {
    "duration": 21,
    "start_time": "2024-05-15T02:59:15.867Z"
   },
   {
    "duration": 22,
    "start_time": "2024-05-15T02:59:58.269Z"
   },
   {
    "duration": 369,
    "start_time": "2024-05-15T05:44:17.102Z"
   },
   {
    "duration": 84,
    "start_time": "2024-05-15T05:44:17.473Z"
   },
   {
    "duration": 79,
    "start_time": "2024-05-15T05:44:17.559Z"
   },
   {
    "duration": 65,
    "start_time": "2024-05-15T05:44:17.640Z"
   },
   {
    "duration": 10,
    "start_time": "2024-05-15T05:44:17.707Z"
   },
   {
    "duration": 8,
    "start_time": "2024-05-15T05:44:17.718Z"
   },
   {
    "duration": 11,
    "start_time": "2024-05-15T05:44:17.727Z"
   },
   {
    "duration": 21,
    "start_time": "2024-05-15T05:44:17.739Z"
   },
   {
    "duration": 533,
    "start_time": "2024-05-15T05:44:17.761Z"
   },
   {
    "duration": 19,
    "start_time": "2024-05-15T05:44:18.295Z"
   },
   {
    "duration": 242,
    "start_time": "2024-05-15T05:44:18.316Z"
   },
   {
    "duration": 415,
    "start_time": "2024-05-15T05:44:18.560Z"
   },
   {
    "duration": 369,
    "start_time": "2024-05-15T05:44:18.977Z"
   },
   {
    "duration": 15,
    "start_time": "2024-05-15T05:44:19.349Z"
   },
   {
    "duration": 14,
    "start_time": "2024-05-15T05:44:19.365Z"
   },
   {
    "duration": 31,
    "start_time": "2024-05-15T05:44:19.380Z"
   },
   {
    "duration": 27,
    "start_time": "2024-05-15T05:44:19.413Z"
   },
   {
    "duration": 14,
    "start_time": "2024-05-15T05:44:19.441Z"
   },
   {
    "duration": 404,
    "start_time": "2024-05-15T05:44:19.456Z"
   },
   {
    "duration": 405,
    "start_time": "2024-05-15T05:44:19.861Z"
   },
   {
    "duration": 5,
    "start_time": "2024-05-15T05:44:20.268Z"
   },
   {
    "duration": 16,
    "start_time": "2024-05-15T05:44:20.275Z"
   },
   {
    "duration": 86,
    "start_time": "2024-05-15T05:46:29.327Z"
   },
   {
    "duration": 6,
    "start_time": "2024-05-15T05:46:54.045Z"
   },
   {
    "duration": 5,
    "start_time": "2024-05-15T05:48:16.857Z"
   },
   {
    "duration": 11,
    "start_time": "2024-05-15T05:48:31.210Z"
   },
   {
    "duration": 5,
    "start_time": "2024-05-15T05:48:39.653Z"
   },
   {
    "duration": 8,
    "start_time": "2024-05-15T05:48:47.014Z"
   },
   {
    "duration": 7,
    "start_time": "2024-05-15T05:49:00.221Z"
   },
   {
    "duration": 9,
    "start_time": "2024-05-15T05:49:17.008Z"
   },
   {
    "duration": 5,
    "start_time": "2024-05-15T05:51:04.531Z"
   },
   {
    "duration": 5,
    "start_time": "2024-05-15T05:51:22.044Z"
   },
   {
    "duration": 5,
    "start_time": "2024-05-15T05:52:00.091Z"
   },
   {
    "duration": 4,
    "start_time": "2024-05-15T05:52:05.380Z"
   },
   {
    "duration": 5,
    "start_time": "2024-05-15T05:52:11.995Z"
   },
   {
    "duration": 5,
    "start_time": "2024-05-15T05:52:19.129Z"
   },
   {
    "duration": 5,
    "start_time": "2024-05-15T05:52:24.968Z"
   },
   {
    "duration": 6,
    "start_time": "2024-05-15T05:52:35.568Z"
   },
   {
    "duration": 5,
    "start_time": "2024-05-15T05:52:41.648Z"
   },
   {
    "duration": 6,
    "start_time": "2024-05-15T05:53:00.872Z"
   },
   {
    "duration": 7,
    "start_time": "2024-05-15T05:53:08.814Z"
   },
   {
    "duration": 5,
    "start_time": "2024-05-15T05:53:27.689Z"
   },
   {
    "duration": 5,
    "start_time": "2024-05-15T05:53:37.686Z"
   },
   {
    "duration": 5,
    "start_time": "2024-05-15T05:53:48.655Z"
   },
   {
    "duration": 5,
    "start_time": "2024-05-15T05:53:55.289Z"
   },
   {
    "duration": 8,
    "start_time": "2024-05-15T05:54:03.313Z"
   },
   {
    "duration": 5,
    "start_time": "2024-05-15T05:54:17.566Z"
   },
   {
    "duration": 5,
    "start_time": "2024-05-15T05:54:23.087Z"
   },
   {
    "duration": 4,
    "start_time": "2024-05-15T05:54:31.634Z"
   },
   {
    "duration": 5,
    "start_time": "2024-05-15T05:54:36.239Z"
   },
   {
    "duration": 5,
    "start_time": "2024-05-15T05:54:41.280Z"
   },
   {
    "duration": 5,
    "start_time": "2024-05-15T05:54:47.257Z"
   },
   {
    "duration": 571,
    "start_time": "2024-05-15T06:25:07.979Z"
   },
   {
    "duration": 13,
    "start_time": "2024-05-15T07:01:26.088Z"
   },
   {
    "duration": 44,
    "start_time": "2024-05-15T07:01:26.118Z"
   },
   {
    "duration": 49,
    "start_time": "2024-05-15T07:01:26.194Z"
   },
   {
    "duration": 29,
    "start_time": "2024-05-15T07:01:26.277Z"
   },
   {
    "duration": 12,
    "start_time": "2024-05-15T07:01:26.476Z"
   },
   {
    "duration": 17,
    "start_time": "2024-05-15T07:01:26.511Z"
   },
   {
    "duration": 16,
    "start_time": "2024-05-15T07:01:26.785Z"
   },
   {
    "duration": 18,
    "start_time": "2024-05-15T07:01:27.216Z"
   },
   {
    "duration": 158,
    "start_time": "2024-05-15T07:01:27.626Z"
   },
   {
    "duration": 21,
    "start_time": "2024-05-15T07:01:27.810Z"
   },
   {
    "duration": 250,
    "start_time": "2024-05-15T07:01:27.863Z"
   },
   {
    "duration": 533,
    "start_time": "2024-05-15T07:01:28.128Z"
   },
   {
    "duration": 376,
    "start_time": "2024-05-15T07:01:28.690Z"
   },
   {
    "duration": 41,
    "start_time": "2024-05-15T07:01:29.084Z"
   },
   {
    "duration": 14,
    "start_time": "2024-05-15T07:01:29.511Z"
   },
   {
    "duration": 29,
    "start_time": "2024-05-15T07:01:29.559Z"
   },
   {
    "duration": 38,
    "start_time": "2024-05-15T07:01:29.597Z"
   },
   {
    "duration": 0,
    "start_time": "2024-05-15T07:01:30.300Z"
   },
   {
    "duration": 0,
    "start_time": "2024-05-15T07:01:30.301Z"
   },
   {
    "duration": 0,
    "start_time": "2024-05-15T07:01:30.303Z"
   },
   {
    "duration": 0,
    "start_time": "2024-05-15T07:01:30.305Z"
   },
   {
    "duration": 0,
    "start_time": "2024-05-15T07:01:30.307Z"
   },
   {
    "duration": 1,
    "start_time": "2024-05-15T07:01:30.308Z"
   },
   {
    "duration": 0,
    "start_time": "2024-05-15T07:01:30.309Z"
   },
   {
    "duration": 0,
    "start_time": "2024-05-15T07:01:30.310Z"
   },
   {
    "duration": 0,
    "start_time": "2024-05-15T07:01:30.311Z"
   },
   {
    "duration": 2,
    "start_time": "2024-05-15T07:01:56.177Z"
   },
   {
    "duration": 64,
    "start_time": "2024-05-15T07:01:56.181Z"
   },
   {
    "duration": 33,
    "start_time": "2024-05-15T07:01:56.247Z"
   },
   {
    "duration": 22,
    "start_time": "2024-05-15T07:01:56.281Z"
   },
   {
    "duration": 11,
    "start_time": "2024-05-15T07:01:56.304Z"
   },
   {
    "duration": 30,
    "start_time": "2024-05-15T07:01:56.316Z"
   },
   {
    "duration": 7,
    "start_time": "2024-05-15T07:01:56.348Z"
   },
   {
    "duration": 29,
    "start_time": "2024-05-15T07:01:56.355Z"
   },
   {
    "duration": 166,
    "start_time": "2024-05-15T07:01:56.385Z"
   },
   {
    "duration": 17,
    "start_time": "2024-05-15T07:01:56.553Z"
   },
   {
    "duration": 238,
    "start_time": "2024-05-15T07:01:56.573Z"
   },
   {
    "duration": 381,
    "start_time": "2024-05-15T07:01:56.813Z"
   },
   {
    "duration": 384,
    "start_time": "2024-05-15T07:01:57.201Z"
   },
   {
    "duration": 21,
    "start_time": "2024-05-15T07:01:57.586Z"
   },
   {
    "duration": 20,
    "start_time": "2024-05-15T07:01:57.608Z"
   },
   {
    "duration": 52,
    "start_time": "2024-05-15T07:01:57.629Z"
   },
   {
    "duration": 27,
    "start_time": "2024-05-15T07:01:57.683Z"
   },
   {
    "duration": 15,
    "start_time": "2024-05-15T07:01:57.712Z"
   },
   {
    "duration": 387,
    "start_time": "2024-05-15T07:01:57.728Z"
   },
   {
    "duration": 6,
    "start_time": "2024-05-15T07:01:58.117Z"
   },
   {
    "duration": 15,
    "start_time": "2024-05-15T07:01:58.124Z"
   },
   {
    "duration": 26,
    "start_time": "2024-05-15T07:01:58.141Z"
   },
   {
    "duration": 3,
    "start_time": "2024-05-15T07:01:58.169Z"
   },
   {
    "duration": 12,
    "start_time": "2024-05-15T07:01:58.173Z"
   },
   {
    "duration": 560,
    "start_time": "2024-05-15T07:01:58.187Z"
   },
   {
    "duration": 26346,
    "start_time": "2024-05-15T07:01:58.748Z"
   },
   {
    "duration": 27740,
    "start_time": "2024-05-15T07:03:25.454Z"
   },
   {
    "duration": 26694,
    "start_time": "2024-05-15T07:04:16.395Z"
   },
   {
    "duration": 378,
    "start_time": "2024-05-15T07:45:43.611Z"
   },
   {
    "duration": 48,
    "start_time": "2024-05-15T07:45:43.991Z"
   },
   {
    "duration": 41,
    "start_time": "2024-05-15T07:45:44.040Z"
   },
   {
    "duration": 26,
    "start_time": "2024-05-15T07:45:44.083Z"
   },
   {
    "duration": 14,
    "start_time": "2024-05-15T07:45:44.111Z"
   },
   {
    "duration": 10,
    "start_time": "2024-05-15T07:45:44.127Z"
   },
   {
    "duration": 31,
    "start_time": "2024-05-15T07:45:44.139Z"
   },
   {
    "duration": 24,
    "start_time": "2024-05-15T07:45:44.172Z"
   },
   {
    "duration": 443,
    "start_time": "2024-05-15T07:45:44.197Z"
   },
   {
    "duration": 16,
    "start_time": "2024-05-15T07:45:44.642Z"
   },
   {
    "duration": 285,
    "start_time": "2024-05-15T07:45:44.670Z"
   },
   {
    "duration": 473,
    "start_time": "2024-05-15T07:45:44.957Z"
   },
   {
    "duration": 503,
    "start_time": "2024-05-15T07:45:45.433Z"
   },
   {
    "duration": 16,
    "start_time": "2024-05-15T07:45:45.940Z"
   },
   {
    "duration": 32,
    "start_time": "2024-05-15T07:45:45.958Z"
   },
   {
    "duration": 23,
    "start_time": "2024-05-15T07:45:45.992Z"
   },
   {
    "duration": 58,
    "start_time": "2024-05-15T07:45:46.017Z"
   },
   {
    "duration": 21,
    "start_time": "2024-05-15T07:45:46.077Z"
   },
   {
    "duration": 470,
    "start_time": "2024-05-15T07:45:46.100Z"
   },
   {
    "duration": 423,
    "start_time": "2024-05-15T07:45:46.572Z"
   },
   {
    "duration": 7,
    "start_time": "2024-05-15T07:45:46.996Z"
   },
   {
    "duration": 20,
    "start_time": "2024-05-15T07:45:47.005Z"
   },
   {
    "duration": 30,
    "start_time": "2024-05-15T07:45:47.027Z"
   },
   {
    "duration": 15,
    "start_time": "2024-05-15T07:45:47.059Z"
   },
   {
    "duration": 736,
    "start_time": "2024-05-15T07:45:47.076Z"
   },
   {
    "duration": 35833,
    "start_time": "2024-05-15T07:45:47.814Z"
   },
   {
    "duration": 13,
    "start_time": "2024-05-15T08:31:52.118Z"
   },
   {
    "duration": 68,
    "start_time": "2024-05-15T10:17:06.305Z"
   },
   {
    "duration": 47,
    "start_time": "2024-05-15T10:17:22.110Z"
   },
   {
    "duration": 912,
    "start_time": "2024-05-15T11:19:46.955Z"
   },
   {
    "duration": 39,
    "start_time": "2024-05-15T11:19:55.262Z"
   },
   {
    "duration": 2,
    "start_time": "2024-05-15T11:20:03.782Z"
   },
   {
    "duration": 126,
    "start_time": "2024-05-15T11:20:03.786Z"
   },
   {
    "duration": 147,
    "start_time": "2024-05-15T11:20:03.914Z"
   },
   {
    "duration": 78,
    "start_time": "2024-05-15T11:20:04.063Z"
   },
   {
    "duration": 15,
    "start_time": "2024-05-15T11:20:04.143Z"
   },
   {
    "duration": 32,
    "start_time": "2024-05-15T11:20:04.160Z"
   },
   {
    "duration": 11,
    "start_time": "2024-05-15T11:20:04.194Z"
   },
   {
    "duration": 27,
    "start_time": "2024-05-15T11:20:04.206Z"
   },
   {
    "duration": 3,
    "start_time": "2024-05-15T11:20:04.236Z"
   },
   {
    "duration": 983,
    "start_time": "2024-05-15T11:20:06.875Z"
   },
   {
    "duration": 144,
    "start_time": "2024-05-15T11:20:37.940Z"
   },
   {
    "duration": 115,
    "start_time": "2024-05-15T11:23:06.376Z"
   },
   {
    "duration": 114,
    "start_time": "2024-05-15T11:23:17.898Z"
   },
   {
    "duration": 7,
    "start_time": "2024-05-15T11:26:52.203Z"
   },
   {
    "duration": 5,
    "start_time": "2024-05-15T11:29:32.592Z"
   },
   {
    "duration": 13,
    "start_time": "2024-05-15T11:29:48.662Z"
   },
   {
    "duration": 11,
    "start_time": "2024-05-15T11:34:28.690Z"
   },
   {
    "duration": 5,
    "start_time": "2024-05-15T11:34:38.470Z"
   },
   {
    "duration": 5,
    "start_time": "2024-05-15T11:34:57.401Z"
   },
   {
    "duration": 6,
    "start_time": "2024-05-15T11:35:07.680Z"
   },
   {
    "duration": 5,
    "start_time": "2024-05-15T11:36:09.416Z"
   },
   {
    "duration": 5,
    "start_time": "2024-05-15T12:02:18.668Z"
   },
   {
    "duration": 11,
    "start_time": "2024-05-15T12:02:32.093Z"
   },
   {
    "duration": 203,
    "start_time": "2024-05-15T12:23:29.851Z"
   },
   {
    "duration": 268,
    "start_time": "2024-05-15T12:23:59.936Z"
   },
   {
    "duration": 176,
    "start_time": "2024-05-15T12:24:25.113Z"
   },
   {
    "duration": 8,
    "start_time": "2024-05-15T12:27:45.391Z"
   },
   {
    "duration": 8,
    "start_time": "2024-05-15T12:27:53.910Z"
   },
   {
    "duration": 10,
    "start_time": "2024-05-15T12:28:00.579Z"
   },
   {
    "duration": 2,
    "start_time": "2024-05-15T12:28:05.280Z"
   },
   {
    "duration": 72,
    "start_time": "2024-05-15T12:28:05.284Z"
   },
   {
    "duration": 41,
    "start_time": "2024-05-15T12:28:05.358Z"
   },
   {
    "duration": 27,
    "start_time": "2024-05-15T12:28:05.401Z"
   },
   {
    "duration": 16,
    "start_time": "2024-05-15T12:28:05.429Z"
   },
   {
    "duration": 46,
    "start_time": "2024-05-15T12:28:05.447Z"
   },
   {
    "duration": 11,
    "start_time": "2024-05-15T12:28:05.495Z"
   },
   {
    "duration": 26,
    "start_time": "2024-05-15T12:28:05.508Z"
   },
   {
    "duration": 6,
    "start_time": "2024-05-15T12:28:05.537Z"
   },
   {
    "duration": 148,
    "start_time": "2024-05-15T12:28:05.545Z"
   },
   {
    "duration": 11,
    "start_time": "2024-05-15T12:28:05.695Z"
   },
   {
    "duration": 32,
    "start_time": "2024-05-15T12:28:05.707Z"
   },
   {
    "duration": 29,
    "start_time": "2024-05-15T12:28:05.741Z"
   },
   {
    "duration": 199,
    "start_time": "2024-05-15T12:28:05.772Z"
   },
   {
    "duration": 20,
    "start_time": "2024-05-15T12:28:05.973Z"
   },
   {
    "duration": 154,
    "start_time": "2024-05-15T12:28:05.994Z"
   },
   {
    "duration": 314,
    "start_time": "2024-05-15T12:28:06.150Z"
   },
   {
    "duration": 498,
    "start_time": "2024-05-15T12:28:06.466Z"
   },
   {
    "duration": 486,
    "start_time": "2024-05-15T12:28:06.966Z"
   },
   {
    "duration": 20,
    "start_time": "2024-05-15T12:28:07.454Z"
   },
   {
    "duration": 20,
    "start_time": "2024-05-15T12:28:07.476Z"
   },
   {
    "duration": 102,
    "start_time": "2024-05-15T12:28:07.497Z"
   },
   {
    "duration": 49,
    "start_time": "2024-05-15T12:28:07.601Z"
   },
   {
    "duration": 20,
    "start_time": "2024-05-15T12:28:07.658Z"
   },
   {
    "duration": 491,
    "start_time": "2024-05-15T12:28:07.680Z"
   },
   {
    "duration": 423,
    "start_time": "2024-05-15T12:28:08.173Z"
   },
   {
    "duration": 6,
    "start_time": "2024-05-15T12:28:08.597Z"
   },
   {
    "duration": 22,
    "start_time": "2024-05-15T12:28:08.604Z"
   },
   {
    "duration": 3,
    "start_time": "2024-05-15T12:28:08.628Z"
   },
   {
    "duration": 11,
    "start_time": "2024-05-15T12:28:08.632Z"
   },
   {
    "duration": 735,
    "start_time": "2024-05-15T12:28:08.645Z"
   },
   {
    "duration": 38105,
    "start_time": "2024-05-15T12:28:09.382Z"
   },
   {
    "duration": 0,
    "start_time": "2024-05-15T12:28:47.542Z"
   },
   {
    "duration": 10,
    "start_time": "2024-05-15T12:29:00.081Z"
   },
   {
    "duration": 11,
    "start_time": "2024-05-15T12:30:10.214Z"
   },
   {
    "duration": 9,
    "start_time": "2024-05-15T12:30:36.169Z"
   },
   {
    "duration": 77,
    "start_time": "2024-05-15T12:30:53.980Z"
   },
   {
    "duration": 13,
    "start_time": "2024-05-15T12:31:09.576Z"
   },
   {
    "duration": 52,
    "start_time": "2024-05-15T12:38:18.732Z"
   },
   {
    "duration": 121,
    "start_time": "2024-05-15T12:38:33.935Z"
   },
   {
    "duration": 63,
    "start_time": "2024-05-15T12:40:00.589Z"
   },
   {
    "duration": 141,
    "start_time": "2024-05-15T12:56:50.893Z"
   },
   {
    "duration": 146,
    "start_time": "2024-05-15T12:57:46.452Z"
   },
   {
    "duration": 141,
    "start_time": "2024-05-15T13:03:00.342Z"
   },
   {
    "duration": 140,
    "start_time": "2024-05-15T13:03:32.203Z"
   },
   {
    "duration": 161,
    "start_time": "2024-05-15T13:04:11.218Z"
   },
   {
    "duration": 155,
    "start_time": "2024-05-15T13:04:35.396Z"
   },
   {
    "duration": 134,
    "start_time": "2024-05-15T13:04:45.088Z"
   },
   {
    "duration": 186,
    "start_time": "2024-05-15T13:05:29.454Z"
   },
   {
    "duration": 138,
    "start_time": "2024-05-15T13:05:59.871Z"
   },
   {
    "duration": 12,
    "start_time": "2024-05-15T13:07:30.638Z"
   },
   {
    "duration": 8,
    "start_time": "2024-05-15T13:08:28.608Z"
   },
   {
    "duration": 57,
    "start_time": "2024-05-15T13:09:05.472Z"
   },
   {
    "duration": 117,
    "start_time": "2024-05-15T13:11:12.074Z"
   },
   {
    "duration": 116,
    "start_time": "2024-05-15T13:12:01.754Z"
   },
   {
    "duration": 235,
    "start_time": "2024-05-15T13:13:01.974Z"
   },
   {
    "duration": 215,
    "start_time": "2024-05-15T13:13:15.539Z"
   },
   {
    "duration": 16,
    "start_time": "2024-05-15T13:17:43.558Z"
   },
   {
    "duration": 17,
    "start_time": "2024-05-15T13:18:02.521Z"
   },
   {
    "duration": 19,
    "start_time": "2024-05-15T13:19:31.482Z"
   },
   {
    "duration": 13,
    "start_time": "2024-05-15T13:19:38.069Z"
   },
   {
    "duration": 11,
    "start_time": "2024-05-15T13:20:18.579Z"
   },
   {
    "duration": 4,
    "start_time": "2024-05-15T13:20:37.579Z"
   },
   {
    "duration": 3,
    "start_time": "2024-05-15T13:21:09.688Z"
   },
   {
    "duration": 4,
    "start_time": "2024-05-15T13:21:33.743Z"
   },
   {
    "duration": 15,
    "start_time": "2024-05-15T13:24:36.618Z"
   },
   {
    "duration": 19,
    "start_time": "2024-05-15T13:25:08.160Z"
   },
   {
    "duration": 3,
    "start_time": "2024-05-15T13:25:21.975Z"
   },
   {
    "duration": 58,
    "start_time": "2024-05-15T13:25:21.979Z"
   },
   {
    "duration": 42,
    "start_time": "2024-05-15T13:25:22.038Z"
   },
   {
    "duration": 25,
    "start_time": "2024-05-15T13:25:22.082Z"
   },
   {
    "duration": 14,
    "start_time": "2024-05-15T13:25:22.109Z"
   },
   {
    "duration": 10,
    "start_time": "2024-05-15T13:25:22.125Z"
   },
   {
    "duration": 28,
    "start_time": "2024-05-15T13:25:22.137Z"
   },
   {
    "duration": 29,
    "start_time": "2024-05-15T13:25:22.166Z"
   },
   {
    "duration": 7,
    "start_time": "2024-05-15T13:25:22.197Z"
   },
   {
    "duration": 142,
    "start_time": "2024-05-15T13:25:22.205Z"
   },
   {
    "duration": 9,
    "start_time": "2024-05-15T13:25:22.350Z"
   },
   {
    "duration": 7,
    "start_time": "2024-05-15T13:25:22.361Z"
   },
   {
    "duration": 28,
    "start_time": "2024-05-15T13:25:22.369Z"
   },
   {
    "duration": 442,
    "start_time": "2024-05-15T13:25:22.399Z"
   },
   {
    "duration": 28,
    "start_time": "2024-05-15T13:25:22.843Z"
   },
   {
    "duration": 185,
    "start_time": "2024-05-15T13:25:22.873Z"
   },
   {
    "duration": 300,
    "start_time": "2024-05-15T13:25:23.060Z"
   },
   {
    "duration": 8,
    "start_time": "2024-05-15T13:25:23.362Z"
   },
   {
    "duration": 505,
    "start_time": "2024-05-15T13:25:23.371Z"
   },
   {
    "duration": 504,
    "start_time": "2024-05-15T13:25:23.877Z"
   },
   {
    "duration": 241,
    "start_time": "2024-05-15T13:25:24.383Z"
   },
   {
    "duration": 4,
    "start_time": "2024-05-15T13:25:24.625Z"
   },
   {
    "duration": 35,
    "start_time": "2024-05-15T13:25:24.631Z"
   },
   {
    "duration": 4,
    "start_time": "2024-05-15T13:25:24.668Z"
   },
   {
    "duration": 21,
    "start_time": "2024-05-15T13:25:27.856Z"
   },
   {
    "duration": 3,
    "start_time": "2024-05-15T13:28:36.388Z"
   },
   {
    "duration": 46,
    "start_time": "2024-05-15T13:28:36.393Z"
   },
   {
    "duration": 39,
    "start_time": "2024-05-15T13:28:36.441Z"
   },
   {
    "duration": 26,
    "start_time": "2024-05-15T13:28:36.482Z"
   },
   {
    "duration": 14,
    "start_time": "2024-05-15T13:28:36.509Z"
   },
   {
    "duration": 26,
    "start_time": "2024-05-15T13:28:36.525Z"
   },
   {
    "duration": 13,
    "start_time": "2024-05-15T13:28:36.553Z"
   },
   {
    "duration": 36,
    "start_time": "2024-05-15T13:28:36.567Z"
   },
   {
    "duration": 11,
    "start_time": "2024-05-15T13:28:36.607Z"
   },
   {
    "duration": 128,
    "start_time": "2024-05-15T13:28:36.620Z"
   },
   {
    "duration": 18,
    "start_time": "2024-05-15T13:28:36.749Z"
   },
   {
    "duration": 7,
    "start_time": "2024-05-15T13:28:36.769Z"
   },
   {
    "duration": 20,
    "start_time": "2024-05-15T13:28:36.777Z"
   },
   {
    "duration": 200,
    "start_time": "2024-05-15T13:28:36.799Z"
   },
   {
    "duration": 17,
    "start_time": "2024-05-15T13:28:37.001Z"
   },
   {
    "duration": 285,
    "start_time": "2024-05-15T13:28:37.019Z"
   },
   {
    "duration": 378,
    "start_time": "2024-05-15T13:28:37.305Z"
   },
   {
    "duration": 8,
    "start_time": "2024-05-15T13:28:37.685Z"
   },
   {
    "duration": 480,
    "start_time": "2024-05-15T13:28:37.695Z"
   },
   {
    "duration": 464,
    "start_time": "2024-05-15T13:28:38.177Z"
   },
   {
    "duration": 239,
    "start_time": "2024-05-15T13:28:38.643Z"
   },
   {
    "duration": 4,
    "start_time": "2024-05-15T13:28:38.884Z"
   },
   {
    "duration": 21,
    "start_time": "2024-05-15T13:28:38.889Z"
   },
   {
    "duration": 4,
    "start_time": "2024-05-15T13:28:38.913Z"
   },
   {
    "duration": 20,
    "start_time": "2024-05-15T13:28:41.054Z"
   },
   {
    "duration": 185,
    "start_time": "2024-05-16T02:31:40.313Z"
   },
   {
    "duration": 145,
    "start_time": "2024-05-16T02:33:39.302Z"
   },
   {
    "duration": 3,
    "start_time": "2024-05-16T02:37:54.831Z"
   },
   {
    "duration": 46,
    "start_time": "2024-05-16T02:37:54.836Z"
   },
   {
    "duration": 39,
    "start_time": "2024-05-16T02:37:54.884Z"
   },
   {
    "duration": 25,
    "start_time": "2024-05-16T02:37:54.925Z"
   },
   {
    "duration": 15,
    "start_time": "2024-05-16T02:37:54.959Z"
   },
   {
    "duration": 11,
    "start_time": "2024-05-16T02:37:54.975Z"
   },
   {
    "duration": 10,
    "start_time": "2024-05-16T02:37:54.988Z"
   },
   {
    "duration": 26,
    "start_time": "2024-05-16T02:37:54.999Z"
   },
   {
    "duration": 5,
    "start_time": "2024-05-16T02:37:55.059Z"
   },
   {
    "duration": 145,
    "start_time": "2024-05-16T02:37:55.066Z"
   },
   {
    "duration": 11,
    "start_time": "2024-05-16T02:37:55.215Z"
   },
   {
    "duration": 8,
    "start_time": "2024-05-16T02:37:55.228Z"
   },
   {
    "duration": 13,
    "start_time": "2024-05-16T02:37:55.258Z"
   },
   {
    "duration": 211,
    "start_time": "2024-05-16T02:37:55.273Z"
   },
   {
    "duration": 17,
    "start_time": "2024-05-16T02:37:55.486Z"
   },
   {
    "duration": 263,
    "start_time": "2024-05-16T02:37:55.505Z"
   },
   {
    "duration": 286,
    "start_time": "2024-05-16T02:37:55.769Z"
   },
   {
    "duration": 7,
    "start_time": "2024-05-16T02:37:56.059Z"
   },
   {
    "duration": 472,
    "start_time": "2024-05-16T02:37:56.068Z"
   },
   {
    "duration": 467,
    "start_time": "2024-05-16T02:37:56.541Z"
   },
   {
    "duration": 231,
    "start_time": "2024-05-16T02:37:57.010Z"
   },
   {
    "duration": 4,
    "start_time": "2024-05-16T02:37:57.242Z"
   },
   {
    "duration": 19,
    "start_time": "2024-05-16T02:37:57.259Z"
   },
   {
    "duration": 4,
    "start_time": "2024-05-16T02:37:57.279Z"
   },
   {
    "duration": 32,
    "start_time": "2024-05-16T02:37:57.284Z"
   },
   {
    "duration": 28,
    "start_time": "2024-05-16T02:41:05.979Z"
   },
   {
    "duration": 25,
    "start_time": "2024-05-16T02:41:22.065Z"
   },
   {
    "duration": 22,
    "start_time": "2024-05-16T02:41:44.626Z"
   },
   {
    "duration": 53,
    "start_time": "2024-05-16T02:56:10.494Z"
   },
   {
    "duration": 335,
    "start_time": "2024-05-16T02:57:10.697Z"
   },
   {
    "duration": 455,
    "start_time": "2024-05-16T02:57:47.385Z"
   },
   {
    "duration": 338,
    "start_time": "2024-05-16T02:58:11.247Z"
   },
   {
    "duration": 367,
    "start_time": "2024-05-16T02:59:33.241Z"
   },
   {
    "duration": 318,
    "start_time": "2024-05-16T03:00:55.147Z"
   },
   {
    "duration": 316,
    "start_time": "2024-05-16T03:11:38.776Z"
   },
   {
    "duration": 510,
    "start_time": "2024-05-16T06:09:34.933Z"
   },
   {
    "duration": 357,
    "start_time": "2024-05-16T06:11:06.049Z"
   },
   {
    "duration": 402,
    "start_time": "2024-05-16T06:11:25.481Z"
   },
   {
    "duration": 517,
    "start_time": "2024-05-16T06:12:16.849Z"
   },
   {
    "duration": 3,
    "start_time": "2024-05-16T06:17:41.364Z"
   },
   {
    "duration": 43,
    "start_time": "2024-05-16T06:17:41.370Z"
   },
   {
    "duration": 43,
    "start_time": "2024-05-16T06:17:41.415Z"
   },
   {
    "duration": 26,
    "start_time": "2024-05-16T06:17:41.461Z"
   },
   {
    "duration": 14,
    "start_time": "2024-05-16T06:17:41.489Z"
   },
   {
    "duration": 12,
    "start_time": "2024-05-16T06:17:41.505Z"
   },
   {
    "duration": 16,
    "start_time": "2024-05-16T06:17:41.519Z"
   },
   {
    "duration": 44,
    "start_time": "2024-05-16T06:17:41.537Z"
   },
   {
    "duration": 5,
    "start_time": "2024-05-16T06:17:41.584Z"
   },
   {
    "duration": 146,
    "start_time": "2024-05-16T06:17:41.591Z"
   },
   {
    "duration": 11,
    "start_time": "2024-05-16T06:17:41.739Z"
   },
   {
    "duration": 6,
    "start_time": "2024-05-16T06:17:41.759Z"
   },
   {
    "duration": 11,
    "start_time": "2024-05-16T06:17:41.767Z"
   },
   {
    "duration": 210,
    "start_time": "2024-05-16T06:17:41.780Z"
   },
   {
    "duration": 17,
    "start_time": "2024-05-16T06:17:41.991Z"
   },
   {
    "duration": 160,
    "start_time": "2024-05-16T06:17:42.010Z"
   },
   {
    "duration": 284,
    "start_time": "2024-05-16T06:17:42.171Z"
   },
   {
    "duration": 8,
    "start_time": "2024-05-16T06:17:42.459Z"
   },
   {
    "duration": 639,
    "start_time": "2024-05-16T06:17:42.468Z"
   },
   {
    "duration": 485,
    "start_time": "2024-05-16T06:17:43.108Z"
   },
   {
    "duration": 518,
    "start_time": "2024-05-16T06:17:43.595Z"
   },
   {
    "duration": 11,
    "start_time": "2024-05-16T06:17:59.254Z"
   },
   {
    "duration": 14,
    "start_time": "2024-05-16T06:18:32.559Z"
   },
   {
    "duration": 3,
    "start_time": "2024-05-16T06:18:53.763Z"
   },
   {
    "duration": 57,
    "start_time": "2024-05-16T06:18:53.768Z"
   },
   {
    "duration": 42,
    "start_time": "2024-05-16T06:18:53.827Z"
   },
   {
    "duration": 29,
    "start_time": "2024-05-16T06:18:53.871Z"
   },
   {
    "duration": 20,
    "start_time": "2024-05-16T06:18:53.903Z"
   },
   {
    "duration": 13,
    "start_time": "2024-05-16T06:18:53.925Z"
   },
   {
    "duration": 20,
    "start_time": "2024-05-16T06:18:53.940Z"
   },
   {
    "duration": 13,
    "start_time": "2024-05-16T06:18:53.962Z"
   },
   {
    "duration": 5,
    "start_time": "2024-05-16T06:18:53.977Z"
   },
   {
    "duration": 141,
    "start_time": "2024-05-16T06:18:53.983Z"
   },
   {
    "duration": 11,
    "start_time": "2024-05-16T06:18:54.126Z"
   },
   {
    "duration": 22,
    "start_time": "2024-05-16T06:18:54.138Z"
   },
   {
    "duration": 12,
    "start_time": "2024-05-16T06:18:54.162Z"
   },
   {
    "duration": 200,
    "start_time": "2024-05-16T06:18:54.176Z"
   },
   {
    "duration": 17,
    "start_time": "2024-05-16T06:18:54.377Z"
   },
   {
    "duration": 158,
    "start_time": "2024-05-16T06:18:54.396Z"
   },
   {
    "duration": 286,
    "start_time": "2024-05-16T06:18:54.555Z"
   },
   {
    "duration": 18,
    "start_time": "2024-05-16T06:18:54.842Z"
   },
   {
    "duration": 482,
    "start_time": "2024-05-16T06:18:54.861Z"
   },
   {
    "duration": 466,
    "start_time": "2024-05-16T06:18:55.345Z"
   },
   {
    "duration": 664,
    "start_time": "2024-05-16T06:18:55.813Z"
   },
   {
    "duration": 13,
    "start_time": "2024-05-16T06:18:56.478Z"
   },
   {
    "duration": 38,
    "start_time": "2024-05-16T06:18:56.493Z"
   },
   {
    "duration": 5,
    "start_time": "2024-05-16T06:18:56.533Z"
   },
   {
    "duration": 33,
    "start_time": "2024-05-16T06:18:56.540Z"
   },
   {
    "duration": 3,
    "start_time": "2024-05-16T06:43:11.384Z"
   },
   {
    "duration": 3,
    "start_time": "2024-05-16T06:58:53.362Z"
   },
   {
    "duration": 81,
    "start_time": "2024-05-16T06:58:53.367Z"
   },
   {
    "duration": 45,
    "start_time": "2024-05-16T06:58:53.449Z"
   },
   {
    "duration": 29,
    "start_time": "2024-05-16T06:58:53.496Z"
   },
   {
    "duration": 14,
    "start_time": "2024-05-16T06:58:53.527Z"
   },
   {
    "duration": 22,
    "start_time": "2024-05-16T06:58:53.543Z"
   },
   {
    "duration": 30,
    "start_time": "2024-05-16T06:58:53.567Z"
   },
   {
    "duration": 26,
    "start_time": "2024-05-16T06:58:53.599Z"
   },
   {
    "duration": 17,
    "start_time": "2024-05-16T06:58:53.627Z"
   },
   {
    "duration": 122,
    "start_time": "2024-05-16T06:58:53.646Z"
   },
   {
    "duration": 10,
    "start_time": "2024-05-16T06:58:53.771Z"
   },
   {
    "duration": 15,
    "start_time": "2024-05-16T06:58:53.783Z"
   },
   {
    "duration": 11,
    "start_time": "2024-05-16T06:58:53.800Z"
   },
   {
    "duration": 206,
    "start_time": "2024-05-16T06:58:53.813Z"
   },
   {
    "duration": 16,
    "start_time": "2024-05-16T06:58:54.021Z"
   },
   {
    "duration": 150,
    "start_time": "2024-05-16T06:58:54.039Z"
   },
   {
    "duration": 307,
    "start_time": "2024-05-16T06:58:54.190Z"
   },
   {
    "duration": 8,
    "start_time": "2024-05-16T06:58:54.499Z"
   },
   {
    "duration": 496,
    "start_time": "2024-05-16T06:58:54.509Z"
   },
   {
    "duration": 476,
    "start_time": "2024-05-16T06:58:55.007Z"
   },
   {
    "duration": 543,
    "start_time": "2024-05-16T06:58:55.485Z"
   },
   {
    "duration": 11,
    "start_time": "2024-05-16T06:58:56.030Z"
   },
   {
    "duration": 31,
    "start_time": "2024-05-16T06:58:56.043Z"
   },
   {
    "duration": 4,
    "start_time": "2024-05-16T06:58:56.075Z"
   },
   {
    "duration": 27,
    "start_time": "2024-05-16T06:58:56.080Z"
   },
   {
    "duration": 17,
    "start_time": "2024-05-16T06:58:56.109Z"
   },
   {
    "duration": 45,
    "start_time": "2024-05-16T06:58:56.127Z"
   },
   {
    "duration": 499,
    "start_time": "2024-05-16T06:58:56.173Z"
   },
   {
    "duration": 326,
    "start_time": "2024-05-16T06:58:56.676Z"
   },
   {
    "duration": 34,
    "start_time": "2024-05-16T06:58:57.003Z"
   },
   {
    "duration": 37,
    "start_time": "2024-05-16T06:58:57.039Z"
   },
   {
    "duration": 439,
    "start_time": "2024-05-16T06:58:57.078Z"
   },
   {
    "duration": 8,
    "start_time": "2024-05-16T06:58:57.519Z"
   },
   {
    "duration": 12,
    "start_time": "2024-05-16T06:58:57.529Z"
   },
   {
    "duration": 28,
    "start_time": "2024-05-16T06:58:57.543Z"
   },
   {
    "duration": 4,
    "start_time": "2024-05-16T06:58:57.572Z"
   },
   {
    "duration": 14,
    "start_time": "2024-05-16T06:58:57.578Z"
   },
   {
    "duration": 716,
    "start_time": "2024-05-16T06:58:57.595Z"
   },
   {
    "duration": 36658,
    "start_time": "2024-05-16T06:58:58.312Z"
   },
   {
    "duration": 313,
    "start_time": "2024-05-16T07:04:30.593Z"
   },
   {
    "duration": 299,
    "start_time": "2024-05-16T07:05:41.612Z"
   },
   {
    "duration": 323,
    "start_time": "2024-05-16T07:06:38.466Z"
   },
   {
    "duration": 104,
    "start_time": "2024-05-16T07:08:16.517Z"
   },
   {
    "duration": 104,
    "start_time": "2024-05-16T07:08:26.022Z"
   },
   {
    "duration": 102,
    "start_time": "2024-05-16T07:08:35.472Z"
   },
   {
    "duration": 152,
    "start_time": "2024-05-16T07:08:43.518Z"
   },
   {
    "duration": 1177,
    "start_time": "2024-05-16T07:38:05.672Z"
   },
   {
    "duration": 133,
    "start_time": "2024-05-16T07:38:06.850Z"
   },
   {
    "duration": 152,
    "start_time": "2024-05-16T07:38:06.985Z"
   },
   {
    "duration": 76,
    "start_time": "2024-05-16T07:38:07.138Z"
   },
   {
    "duration": 10,
    "start_time": "2024-05-16T07:38:07.215Z"
   },
   {
    "duration": 8,
    "start_time": "2024-05-16T07:38:07.227Z"
   },
   {
    "duration": 7,
    "start_time": "2024-05-16T07:38:07.236Z"
   },
   {
    "duration": 12,
    "start_time": "2024-05-16T07:38:07.244Z"
   },
   {
    "duration": 4,
    "start_time": "2024-05-16T07:38:07.257Z"
   },
   {
    "duration": 117,
    "start_time": "2024-05-16T07:38:07.263Z"
   },
   {
    "duration": 8,
    "start_time": "2024-05-16T07:38:07.383Z"
   },
   {
    "duration": 13,
    "start_time": "2024-05-16T07:38:07.393Z"
   },
   {
    "duration": 12,
    "start_time": "2024-05-16T07:38:07.407Z"
   },
   {
    "duration": 158,
    "start_time": "2024-05-16T07:38:07.420Z"
   },
   {
    "duration": 17,
    "start_time": "2024-05-16T07:38:07.579Z"
   },
   {
    "duration": 111,
    "start_time": "2024-05-16T07:38:07.597Z"
   },
   {
    "duration": 230,
    "start_time": "2024-05-16T07:38:07.710Z"
   },
   {
    "duration": 6,
    "start_time": "2024-05-16T07:38:07.941Z"
   },
   {
    "duration": 387,
    "start_time": "2024-05-16T07:38:07.948Z"
   },
   {
    "duration": 417,
    "start_time": "2024-05-16T07:38:08.336Z"
   },
   {
    "duration": 410,
    "start_time": "2024-05-16T07:38:08.754Z"
   },
   {
    "duration": 9,
    "start_time": "2024-05-16T07:38:09.165Z"
   },
   {
    "duration": 31,
    "start_time": "2024-05-16T07:38:09.175Z"
   },
   {
    "duration": 9,
    "start_time": "2024-05-16T07:38:09.208Z"
   },
   {
    "duration": 35,
    "start_time": "2024-05-16T07:38:09.218Z"
   },
   {
    "duration": 17,
    "start_time": "2024-05-16T07:38:09.255Z"
   },
   {
    "duration": 30,
    "start_time": "2024-05-16T07:38:09.273Z"
   },
   {
    "duration": 270,
    "start_time": "2024-05-16T07:38:09.306Z"
   },
   {
    "duration": 253,
    "start_time": "2024-05-16T07:38:09.578Z"
   },
   {
    "duration": 26,
    "start_time": "2024-05-16T07:38:09.833Z"
   },
   {
    "duration": 28,
    "start_time": "2024-05-16T07:38:09.860Z"
   },
   {
    "duration": 368,
    "start_time": "2024-05-16T07:38:09.889Z"
   },
   {
    "duration": 5,
    "start_time": "2024-05-16T07:38:10.259Z"
   },
   {
    "duration": 27,
    "start_time": "2024-05-16T07:38:10.266Z"
   },
   {
    "duration": 19,
    "start_time": "2024-05-16T07:38:10.294Z"
   },
   {
    "duration": 14,
    "start_time": "2024-05-16T07:38:10.314Z"
   },
   {
    "duration": 70,
    "start_time": "2024-05-16T07:38:10.330Z"
   },
   {
    "duration": 528,
    "start_time": "2024-05-16T07:38:10.402Z"
   },
   {
    "duration": 25682,
    "start_time": "2024-05-16T07:38:10.931Z"
   }
  ],
  "kernelspec": {
   "display_name": "Python 3 (ipykernel)",
   "language": "python",
   "name": "python3"
  },
  "language_info": {
   "codemirror_mode": {
    "name": "ipython",
    "version": 3
   },
   "file_extension": ".py",
   "mimetype": "text/x-python",
   "name": "python",
   "nbconvert_exporter": "python",
   "pygments_lexer": "ipython3",
   "version": "3.11.8"
  },
  "toc": {
   "base_numbering": 1,
   "nav_menu": {},
   "number_sections": true,
   "sideBar": true,
   "skip_h1_title": true,
   "title_cell": "Table of Contents",
   "title_sidebar": "Contents",
   "toc_cell": false,
   "toc_position": {},
   "toc_section_display": true,
   "toc_window_display": false
  }
 },
 "nbformat": 4,
 "nbformat_minor": 5
}
